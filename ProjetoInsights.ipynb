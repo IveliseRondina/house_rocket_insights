{
 "cells": [
  {
   "cell_type": "markdown",
   "id": "732ea2ca",
   "metadata": {},
   "source": [
    "# 0.0 Bibliotecas"
   ]
  },
  {
   "cell_type": "code",
   "execution_count": 1,
   "id": "50a7667c",
   "metadata": {},
   "outputs": [],
   "source": [
    "import pandas as pd\n",
    "import numpy as np\n",
    "import seaborn as sns\n",
    "import matplotlib.pyplot as plt"
   ]
  },
  {
   "cell_type": "markdown",
   "id": "885fa06b",
   "metadata": {},
   "source": [
    "## 0.1 Funções auxiliares"
   ]
  },
  {
   "cell_type": "code",
   "execution_count": 2,
   "id": "372e9d01",
   "metadata": {},
   "outputs": [],
   "source": [
    "np.set_printoptions(suppress=True)\n",
    "pd.set_option('display.float_format', '{:.2f}'.format)\n",
    "\n",
    "plt.rcParams['figure.figsize'] = (11,7)\n",
    "\n",
    "#warnings.filterwarnings('ignore')\n"
   ]
  },
  {
   "cell_type": "markdown",
   "id": "49e2b178",
   "metadata": {},
   "source": [
    "# 1.0 Dataset"
   ]
  },
  {
   "cell_type": "markdown",
   "id": "7f566934",
   "metadata": {},
   "source": [
    "## 1.1 Importando dataset"
   ]
  },
  {
   "cell_type": "code",
   "execution_count": 3,
   "id": "74b0c965",
   "metadata": {},
   "outputs": [],
   "source": [
    "data = pd.read_csv('kc_house_data.csv')"
   ]
  },
  {
   "cell_type": "markdown",
   "id": "73b9e8af",
   "metadata": {},
   "source": [
    "## 1.2 Conhecendo o dataset"
   ]
  },
  {
   "cell_type": "code",
   "execution_count": 4,
   "id": "ef047269",
   "metadata": {},
   "outputs": [
    {
     "data": {
      "text/html": [
       "<div>\n",
       "<style scoped>\n",
       "    .dataframe tbody tr th:only-of-type {\n",
       "        vertical-align: middle;\n",
       "    }\n",
       "\n",
       "    .dataframe tbody tr th {\n",
       "        vertical-align: top;\n",
       "    }\n",
       "\n",
       "    .dataframe thead th {\n",
       "        text-align: right;\n",
       "    }\n",
       "</style>\n",
       "<table border=\"1\" class=\"dataframe\">\n",
       "  <thead>\n",
       "    <tr style=\"text-align: right;\">\n",
       "      <th></th>\n",
       "      <th>id</th>\n",
       "      <th>date</th>\n",
       "      <th>price</th>\n",
       "      <th>bedrooms</th>\n",
       "      <th>bathrooms</th>\n",
       "      <th>sqft_living</th>\n",
       "      <th>sqft_lot</th>\n",
       "      <th>floors</th>\n",
       "      <th>waterfront</th>\n",
       "      <th>view</th>\n",
       "      <th>...</th>\n",
       "      <th>grade</th>\n",
       "      <th>sqft_above</th>\n",
       "      <th>sqft_basement</th>\n",
       "      <th>yr_built</th>\n",
       "      <th>yr_renovated</th>\n",
       "      <th>zipcode</th>\n",
       "      <th>lat</th>\n",
       "      <th>long</th>\n",
       "      <th>sqft_living15</th>\n",
       "      <th>sqft_lot15</th>\n",
       "    </tr>\n",
       "  </thead>\n",
       "  <tbody>\n",
       "    <tr>\n",
       "      <th>0</th>\n",
       "      <td>7129300520</td>\n",
       "      <td>20141013T000000</td>\n",
       "      <td>221900.00</td>\n",
       "      <td>3</td>\n",
       "      <td>1.00</td>\n",
       "      <td>1180</td>\n",
       "      <td>5650</td>\n",
       "      <td>1.00</td>\n",
       "      <td>0</td>\n",
       "      <td>0</td>\n",
       "      <td>...</td>\n",
       "      <td>7</td>\n",
       "      <td>1180</td>\n",
       "      <td>0</td>\n",
       "      <td>1955</td>\n",
       "      <td>0</td>\n",
       "      <td>98178</td>\n",
       "      <td>47.51</td>\n",
       "      <td>-122.26</td>\n",
       "      <td>1340</td>\n",
       "      <td>5650</td>\n",
       "    </tr>\n",
       "    <tr>\n",
       "      <th>1</th>\n",
       "      <td>6414100192</td>\n",
       "      <td>20141209T000000</td>\n",
       "      <td>538000.00</td>\n",
       "      <td>3</td>\n",
       "      <td>2.25</td>\n",
       "      <td>2570</td>\n",
       "      <td>7242</td>\n",
       "      <td>2.00</td>\n",
       "      <td>0</td>\n",
       "      <td>0</td>\n",
       "      <td>...</td>\n",
       "      <td>7</td>\n",
       "      <td>2170</td>\n",
       "      <td>400</td>\n",
       "      <td>1951</td>\n",
       "      <td>1991</td>\n",
       "      <td>98125</td>\n",
       "      <td>47.72</td>\n",
       "      <td>-122.32</td>\n",
       "      <td>1690</td>\n",
       "      <td>7639</td>\n",
       "    </tr>\n",
       "    <tr>\n",
       "      <th>2</th>\n",
       "      <td>5631500400</td>\n",
       "      <td>20150225T000000</td>\n",
       "      <td>180000.00</td>\n",
       "      <td>2</td>\n",
       "      <td>1.00</td>\n",
       "      <td>770</td>\n",
       "      <td>10000</td>\n",
       "      <td>1.00</td>\n",
       "      <td>0</td>\n",
       "      <td>0</td>\n",
       "      <td>...</td>\n",
       "      <td>6</td>\n",
       "      <td>770</td>\n",
       "      <td>0</td>\n",
       "      <td>1933</td>\n",
       "      <td>0</td>\n",
       "      <td>98028</td>\n",
       "      <td>47.74</td>\n",
       "      <td>-122.23</td>\n",
       "      <td>2720</td>\n",
       "      <td>8062</td>\n",
       "    </tr>\n",
       "    <tr>\n",
       "      <th>3</th>\n",
       "      <td>2487200875</td>\n",
       "      <td>20141209T000000</td>\n",
       "      <td>604000.00</td>\n",
       "      <td>4</td>\n",
       "      <td>3.00</td>\n",
       "      <td>1960</td>\n",
       "      <td>5000</td>\n",
       "      <td>1.00</td>\n",
       "      <td>0</td>\n",
       "      <td>0</td>\n",
       "      <td>...</td>\n",
       "      <td>7</td>\n",
       "      <td>1050</td>\n",
       "      <td>910</td>\n",
       "      <td>1965</td>\n",
       "      <td>0</td>\n",
       "      <td>98136</td>\n",
       "      <td>47.52</td>\n",
       "      <td>-122.39</td>\n",
       "      <td>1360</td>\n",
       "      <td>5000</td>\n",
       "    </tr>\n",
       "    <tr>\n",
       "      <th>4</th>\n",
       "      <td>1954400510</td>\n",
       "      <td>20150218T000000</td>\n",
       "      <td>510000.00</td>\n",
       "      <td>3</td>\n",
       "      <td>2.00</td>\n",
       "      <td>1680</td>\n",
       "      <td>8080</td>\n",
       "      <td>1.00</td>\n",
       "      <td>0</td>\n",
       "      <td>0</td>\n",
       "      <td>...</td>\n",
       "      <td>8</td>\n",
       "      <td>1680</td>\n",
       "      <td>0</td>\n",
       "      <td>1987</td>\n",
       "      <td>0</td>\n",
       "      <td>98074</td>\n",
       "      <td>47.62</td>\n",
       "      <td>-122.05</td>\n",
       "      <td>1800</td>\n",
       "      <td>7503</td>\n",
       "    </tr>\n",
       "  </tbody>\n",
       "</table>\n",
       "<p>5 rows × 21 columns</p>\n",
       "</div>"
      ],
      "text/plain": [
       "           id             date     price  bedrooms  bathrooms  sqft_living  \\\n",
       "0  7129300520  20141013T000000 221900.00         3       1.00         1180   \n",
       "1  6414100192  20141209T000000 538000.00         3       2.25         2570   \n",
       "2  5631500400  20150225T000000 180000.00         2       1.00          770   \n",
       "3  2487200875  20141209T000000 604000.00         4       3.00         1960   \n",
       "4  1954400510  20150218T000000 510000.00         3       2.00         1680   \n",
       "\n",
       "   sqft_lot  floors  waterfront  view  ...  grade  sqft_above  sqft_basement  \\\n",
       "0      5650    1.00           0     0  ...      7        1180              0   \n",
       "1      7242    2.00           0     0  ...      7        2170            400   \n",
       "2     10000    1.00           0     0  ...      6         770              0   \n",
       "3      5000    1.00           0     0  ...      7        1050            910   \n",
       "4      8080    1.00           0     0  ...      8        1680              0   \n",
       "\n",
       "   yr_built  yr_renovated  zipcode   lat    long  sqft_living15  sqft_lot15  \n",
       "0      1955             0    98178 47.51 -122.26           1340        5650  \n",
       "1      1951          1991    98125 47.72 -122.32           1690        7639  \n",
       "2      1933             0    98028 47.74 -122.23           2720        8062  \n",
       "3      1965             0    98136 47.52 -122.39           1360        5000  \n",
       "4      1987             0    98074 47.62 -122.05           1800        7503  \n",
       "\n",
       "[5 rows x 21 columns]"
      ]
     },
     "execution_count": 4,
     "metadata": {},
     "output_type": "execute_result"
    }
   ],
   "source": [
    "data.head()"
   ]
  },
  {
   "cell_type": "code",
   "execution_count": 5,
   "id": "54991957",
   "metadata": {},
   "outputs": [
    {
     "name": "stdout",
     "output_type": "stream",
     "text": [
      "<class 'pandas.core.frame.DataFrame'>\n",
      "RangeIndex: 21613 entries, 0 to 21612\n",
      "Data columns (total 21 columns):\n",
      " #   Column         Non-Null Count  Dtype  \n",
      "---  ------         --------------  -----  \n",
      " 0   id             21613 non-null  int64  \n",
      " 1   date           21613 non-null  object \n",
      " 2   price          21613 non-null  float64\n",
      " 3   bedrooms       21613 non-null  int64  \n",
      " 4   bathrooms      21613 non-null  float64\n",
      " 5   sqft_living    21613 non-null  int64  \n",
      " 6   sqft_lot       21613 non-null  int64  \n",
      " 7   floors         21613 non-null  float64\n",
      " 8   waterfront     21613 non-null  int64  \n",
      " 9   view           21613 non-null  int64  \n",
      " 10  condition      21613 non-null  int64  \n",
      " 11  grade          21613 non-null  int64  \n",
      " 12  sqft_above     21613 non-null  int64  \n",
      " 13  sqft_basement  21613 non-null  int64  \n",
      " 14  yr_built       21613 non-null  int64  \n",
      " 15  yr_renovated   21613 non-null  int64  \n",
      " 16  zipcode        21613 non-null  int64  \n",
      " 17  lat            21613 non-null  float64\n",
      " 18  long           21613 non-null  float64\n",
      " 19  sqft_living15  21613 non-null  int64  \n",
      " 20  sqft_lot15     21613 non-null  int64  \n",
      "dtypes: float64(5), int64(15), object(1)\n",
      "memory usage: 3.5+ MB\n"
     ]
    }
   ],
   "source": [
    "data.info()"
   ]
  },
  {
   "cell_type": "code",
   "execution_count": 6,
   "id": "39fb375e",
   "metadata": {},
   "outputs": [
    {
     "data": {
      "text/html": [
       "<div>\n",
       "<style scoped>\n",
       "    .dataframe tbody tr th:only-of-type {\n",
       "        vertical-align: middle;\n",
       "    }\n",
       "\n",
       "    .dataframe tbody tr th {\n",
       "        vertical-align: top;\n",
       "    }\n",
       "\n",
       "    .dataframe thead th {\n",
       "        text-align: right;\n",
       "    }\n",
       "</style>\n",
       "<table border=\"1\" class=\"dataframe\">\n",
       "  <thead>\n",
       "    <tr style=\"text-align: right;\">\n",
       "      <th></th>\n",
       "      <th>id</th>\n",
       "      <th>price</th>\n",
       "      <th>bedrooms</th>\n",
       "      <th>bathrooms</th>\n",
       "      <th>sqft_living</th>\n",
       "      <th>sqft_lot</th>\n",
       "      <th>floors</th>\n",
       "      <th>waterfront</th>\n",
       "      <th>view</th>\n",
       "      <th>condition</th>\n",
       "      <th>grade</th>\n",
       "      <th>sqft_above</th>\n",
       "      <th>sqft_basement</th>\n",
       "      <th>yr_built</th>\n",
       "      <th>yr_renovated</th>\n",
       "      <th>zipcode</th>\n",
       "      <th>lat</th>\n",
       "      <th>long</th>\n",
       "      <th>sqft_living15</th>\n",
       "      <th>sqft_lot15</th>\n",
       "    </tr>\n",
       "  </thead>\n",
       "  <tbody>\n",
       "    <tr>\n",
       "      <th>count</th>\n",
       "      <td>21613.00</td>\n",
       "      <td>21613.00</td>\n",
       "      <td>21613.00</td>\n",
       "      <td>21613.00</td>\n",
       "      <td>21613.00</td>\n",
       "      <td>21613.00</td>\n",
       "      <td>21613.00</td>\n",
       "      <td>21613.00</td>\n",
       "      <td>21613.00</td>\n",
       "      <td>21613.00</td>\n",
       "      <td>21613.00</td>\n",
       "      <td>21613.00</td>\n",
       "      <td>21613.00</td>\n",
       "      <td>21613.00</td>\n",
       "      <td>21613.00</td>\n",
       "      <td>21613.00</td>\n",
       "      <td>21613.00</td>\n",
       "      <td>21613.00</td>\n",
       "      <td>21613.00</td>\n",
       "      <td>21613.00</td>\n",
       "    </tr>\n",
       "    <tr>\n",
       "      <th>mean</th>\n",
       "      <td>4580301520.86</td>\n",
       "      <td>540088.14</td>\n",
       "      <td>3.37</td>\n",
       "      <td>2.11</td>\n",
       "      <td>2079.90</td>\n",
       "      <td>15106.97</td>\n",
       "      <td>1.49</td>\n",
       "      <td>0.01</td>\n",
       "      <td>0.23</td>\n",
       "      <td>3.41</td>\n",
       "      <td>7.66</td>\n",
       "      <td>1788.39</td>\n",
       "      <td>291.51</td>\n",
       "      <td>1971.01</td>\n",
       "      <td>84.40</td>\n",
       "      <td>98077.94</td>\n",
       "      <td>47.56</td>\n",
       "      <td>-122.21</td>\n",
       "      <td>1986.55</td>\n",
       "      <td>12768.46</td>\n",
       "    </tr>\n",
       "    <tr>\n",
       "      <th>std</th>\n",
       "      <td>2876565571.31</td>\n",
       "      <td>367127.20</td>\n",
       "      <td>0.93</td>\n",
       "      <td>0.77</td>\n",
       "      <td>918.44</td>\n",
       "      <td>41420.51</td>\n",
       "      <td>0.54</td>\n",
       "      <td>0.09</td>\n",
       "      <td>0.77</td>\n",
       "      <td>0.65</td>\n",
       "      <td>1.18</td>\n",
       "      <td>828.09</td>\n",
       "      <td>442.58</td>\n",
       "      <td>29.37</td>\n",
       "      <td>401.68</td>\n",
       "      <td>53.51</td>\n",
       "      <td>0.14</td>\n",
       "      <td>0.14</td>\n",
       "      <td>685.39</td>\n",
       "      <td>27304.18</td>\n",
       "    </tr>\n",
       "    <tr>\n",
       "      <th>min</th>\n",
       "      <td>1000102.00</td>\n",
       "      <td>75000.00</td>\n",
       "      <td>0.00</td>\n",
       "      <td>0.00</td>\n",
       "      <td>290.00</td>\n",
       "      <td>520.00</td>\n",
       "      <td>1.00</td>\n",
       "      <td>0.00</td>\n",
       "      <td>0.00</td>\n",
       "      <td>1.00</td>\n",
       "      <td>1.00</td>\n",
       "      <td>290.00</td>\n",
       "      <td>0.00</td>\n",
       "      <td>1900.00</td>\n",
       "      <td>0.00</td>\n",
       "      <td>98001.00</td>\n",
       "      <td>47.16</td>\n",
       "      <td>-122.52</td>\n",
       "      <td>399.00</td>\n",
       "      <td>651.00</td>\n",
       "    </tr>\n",
       "    <tr>\n",
       "      <th>25%</th>\n",
       "      <td>2123049194.00</td>\n",
       "      <td>321950.00</td>\n",
       "      <td>3.00</td>\n",
       "      <td>1.75</td>\n",
       "      <td>1427.00</td>\n",
       "      <td>5040.00</td>\n",
       "      <td>1.00</td>\n",
       "      <td>0.00</td>\n",
       "      <td>0.00</td>\n",
       "      <td>3.00</td>\n",
       "      <td>7.00</td>\n",
       "      <td>1190.00</td>\n",
       "      <td>0.00</td>\n",
       "      <td>1951.00</td>\n",
       "      <td>0.00</td>\n",
       "      <td>98033.00</td>\n",
       "      <td>47.47</td>\n",
       "      <td>-122.33</td>\n",
       "      <td>1490.00</td>\n",
       "      <td>5100.00</td>\n",
       "    </tr>\n",
       "    <tr>\n",
       "      <th>50%</th>\n",
       "      <td>3904930410.00</td>\n",
       "      <td>450000.00</td>\n",
       "      <td>3.00</td>\n",
       "      <td>2.25</td>\n",
       "      <td>1910.00</td>\n",
       "      <td>7618.00</td>\n",
       "      <td>1.50</td>\n",
       "      <td>0.00</td>\n",
       "      <td>0.00</td>\n",
       "      <td>3.00</td>\n",
       "      <td>7.00</td>\n",
       "      <td>1560.00</td>\n",
       "      <td>0.00</td>\n",
       "      <td>1975.00</td>\n",
       "      <td>0.00</td>\n",
       "      <td>98065.00</td>\n",
       "      <td>47.57</td>\n",
       "      <td>-122.23</td>\n",
       "      <td>1840.00</td>\n",
       "      <td>7620.00</td>\n",
       "    </tr>\n",
       "    <tr>\n",
       "      <th>75%</th>\n",
       "      <td>7308900445.00</td>\n",
       "      <td>645000.00</td>\n",
       "      <td>4.00</td>\n",
       "      <td>2.50</td>\n",
       "      <td>2550.00</td>\n",
       "      <td>10688.00</td>\n",
       "      <td>2.00</td>\n",
       "      <td>0.00</td>\n",
       "      <td>0.00</td>\n",
       "      <td>4.00</td>\n",
       "      <td>8.00</td>\n",
       "      <td>2210.00</td>\n",
       "      <td>560.00</td>\n",
       "      <td>1997.00</td>\n",
       "      <td>0.00</td>\n",
       "      <td>98118.00</td>\n",
       "      <td>47.68</td>\n",
       "      <td>-122.12</td>\n",
       "      <td>2360.00</td>\n",
       "      <td>10083.00</td>\n",
       "    </tr>\n",
       "    <tr>\n",
       "      <th>max</th>\n",
       "      <td>9900000190.00</td>\n",
       "      <td>7700000.00</td>\n",
       "      <td>33.00</td>\n",
       "      <td>8.00</td>\n",
       "      <td>13540.00</td>\n",
       "      <td>1651359.00</td>\n",
       "      <td>3.50</td>\n",
       "      <td>1.00</td>\n",
       "      <td>4.00</td>\n",
       "      <td>5.00</td>\n",
       "      <td>13.00</td>\n",
       "      <td>9410.00</td>\n",
       "      <td>4820.00</td>\n",
       "      <td>2015.00</td>\n",
       "      <td>2015.00</td>\n",
       "      <td>98199.00</td>\n",
       "      <td>47.78</td>\n",
       "      <td>-121.31</td>\n",
       "      <td>6210.00</td>\n",
       "      <td>871200.00</td>\n",
       "    </tr>\n",
       "  </tbody>\n",
       "</table>\n",
       "</div>"
      ],
      "text/plain": [
       "                 id      price  bedrooms  bathrooms  sqft_living   sqft_lot  \\\n",
       "count      21613.00   21613.00  21613.00   21613.00     21613.00   21613.00   \n",
       "mean  4580301520.86  540088.14      3.37       2.11      2079.90   15106.97   \n",
       "std   2876565571.31  367127.20      0.93       0.77       918.44   41420.51   \n",
       "min      1000102.00   75000.00      0.00       0.00       290.00     520.00   \n",
       "25%   2123049194.00  321950.00      3.00       1.75      1427.00    5040.00   \n",
       "50%   3904930410.00  450000.00      3.00       2.25      1910.00    7618.00   \n",
       "75%   7308900445.00  645000.00      4.00       2.50      2550.00   10688.00   \n",
       "max   9900000190.00 7700000.00     33.00       8.00     13540.00 1651359.00   \n",
       "\n",
       "        floors  waterfront     view  condition    grade  sqft_above  \\\n",
       "count 21613.00    21613.00 21613.00   21613.00 21613.00    21613.00   \n",
       "mean      1.49        0.01     0.23       3.41     7.66     1788.39   \n",
       "std       0.54        0.09     0.77       0.65     1.18      828.09   \n",
       "min       1.00        0.00     0.00       1.00     1.00      290.00   \n",
       "25%       1.00        0.00     0.00       3.00     7.00     1190.00   \n",
       "50%       1.50        0.00     0.00       3.00     7.00     1560.00   \n",
       "75%       2.00        0.00     0.00       4.00     8.00     2210.00   \n",
       "max       3.50        1.00     4.00       5.00    13.00     9410.00   \n",
       "\n",
       "       sqft_basement  yr_built  yr_renovated  zipcode      lat     long  \\\n",
       "count       21613.00  21613.00      21613.00 21613.00 21613.00 21613.00   \n",
       "mean          291.51   1971.01         84.40 98077.94    47.56  -122.21   \n",
       "std           442.58     29.37        401.68    53.51     0.14     0.14   \n",
       "min             0.00   1900.00          0.00 98001.00    47.16  -122.52   \n",
       "25%             0.00   1951.00          0.00 98033.00    47.47  -122.33   \n",
       "50%             0.00   1975.00          0.00 98065.00    47.57  -122.23   \n",
       "75%           560.00   1997.00          0.00 98118.00    47.68  -122.12   \n",
       "max          4820.00   2015.00       2015.00 98199.00    47.78  -121.31   \n",
       "\n",
       "       sqft_living15  sqft_lot15  \n",
       "count       21613.00    21613.00  \n",
       "mean         1986.55    12768.46  \n",
       "std           685.39    27304.18  \n",
       "min           399.00      651.00  \n",
       "25%          1490.00     5100.00  \n",
       "50%          1840.00     7620.00  \n",
       "75%          2360.00    10083.00  \n",
       "max          6210.00   871200.00  "
      ]
     },
     "execution_count": 6,
     "metadata": {},
     "output_type": "execute_result"
    }
   ],
   "source": [
    "data.describe()"
   ]
  },
  {
   "cell_type": "code",
   "execution_count": 7,
   "id": "b1102e88",
   "metadata": {},
   "outputs": [
    {
     "data": {
      "text/plain": [
       "id               0\n",
       "date             0\n",
       "price            0\n",
       "bedrooms         0\n",
       "bathrooms        0\n",
       "sqft_living      0\n",
       "sqft_lot         0\n",
       "floors           0\n",
       "waterfront       0\n",
       "view             0\n",
       "condition        0\n",
       "grade            0\n",
       "sqft_above       0\n",
       "sqft_basement    0\n",
       "yr_built         0\n",
       "yr_renovated     0\n",
       "zipcode          0\n",
       "lat              0\n",
       "long             0\n",
       "sqft_living15    0\n",
       "sqft_lot15       0\n",
       "dtype: int64"
      ]
     },
     "execution_count": 7,
     "metadata": {},
     "output_type": "execute_result"
    }
   ],
   "source": [
    "data.isna().sum()"
   ]
  },
  {
   "cell_type": "code",
   "execution_count": 8,
   "id": "eef40c84",
   "metadata": {},
   "outputs": [
    {
     "data": {
      "text/plain": [
       "21436"
      ]
     },
     "execution_count": 8,
     "metadata": {},
     "output_type": "execute_result"
    }
   ],
   "source": [
    "len(data['id'].unique())"
   ]
  },
  {
   "cell_type": "code",
   "execution_count": 9,
   "id": "e982a4a3",
   "metadata": {},
   "outputs": [
    {
     "data": {
      "text/plain": [
       "array([ 3,  2,  4,  5,  1,  6,  7,  0,  8,  9, 11, 10, 33], dtype=int64)"
      ]
     },
     "execution_count": 9,
     "metadata": {},
     "output_type": "execute_result"
    }
   ],
   "source": [
    "data['bedrooms'].unique()"
   ]
  },
  {
   "cell_type": "code",
   "execution_count": 10,
   "id": "a2fac846",
   "metadata": {},
   "outputs": [
    {
     "data": {
      "text/plain": [
       "array([1.  , 2.25, 3.  , 2.  , 4.5 , 1.5 , 2.5 , 1.75, 2.75, 3.25, 4.  ,\n",
       "       3.5 , 0.75, 4.75, 5.  , 4.25, 3.75, 0.  , 1.25, 5.25, 6.  , 0.5 ,\n",
       "       5.5 , 6.75, 5.75, 8.  , 7.5 , 7.75, 6.25, 6.5 ])"
      ]
     },
     "execution_count": 10,
     "metadata": {},
     "output_type": "execute_result"
    }
   ],
   "source": [
    "data['bathrooms'].unique()"
   ]
  },
  {
   "cell_type": "code",
   "execution_count": 11,
   "id": "6c77d95e",
   "metadata": {},
   "outputs": [
    {
     "data": {
      "text/plain": [
       "array([1. , 2. , 1.5, 3. , 2.5, 3.5])"
      ]
     },
     "execution_count": 11,
     "metadata": {},
     "output_type": "execute_result"
    }
   ],
   "source": [
    "data['floors'].unique()"
   ]
  },
  {
   "cell_type": "code",
   "execution_count": 12,
   "id": "203d2ae1",
   "metadata": {},
   "outputs": [
    {
     "data": {
      "text/html": [
       "<div>\n",
       "<style scoped>\n",
       "    .dataframe tbody tr th:only-of-type {\n",
       "        vertical-align: middle;\n",
       "    }\n",
       "\n",
       "    .dataframe tbody tr th {\n",
       "        vertical-align: top;\n",
       "    }\n",
       "\n",
       "    .dataframe thead th {\n",
       "        text-align: right;\n",
       "    }\n",
       "</style>\n",
       "<table border=\"1\" class=\"dataframe\">\n",
       "  <thead>\n",
       "    <tr style=\"text-align: right;\">\n",
       "      <th></th>\n",
       "      <th>sqft_living</th>\n",
       "      <th>sqft_living15</th>\n",
       "    </tr>\n",
       "  </thead>\n",
       "  <tbody>\n",
       "    <tr>\n",
       "      <th>0</th>\n",
       "      <td>1180</td>\n",
       "      <td>1340</td>\n",
       "    </tr>\n",
       "    <tr>\n",
       "      <th>1</th>\n",
       "      <td>2570</td>\n",
       "      <td>1690</td>\n",
       "    </tr>\n",
       "    <tr>\n",
       "      <th>2</th>\n",
       "      <td>770</td>\n",
       "      <td>2720</td>\n",
       "    </tr>\n",
       "    <tr>\n",
       "      <th>3</th>\n",
       "      <td>1960</td>\n",
       "      <td>1360</td>\n",
       "    </tr>\n",
       "    <tr>\n",
       "      <th>4</th>\n",
       "      <td>1680</td>\n",
       "      <td>1800</td>\n",
       "    </tr>\n",
       "    <tr>\n",
       "      <th>...</th>\n",
       "      <td>...</td>\n",
       "      <td>...</td>\n",
       "    </tr>\n",
       "    <tr>\n",
       "      <th>21608</th>\n",
       "      <td>1530</td>\n",
       "      <td>1530</td>\n",
       "    </tr>\n",
       "    <tr>\n",
       "      <th>21609</th>\n",
       "      <td>2310</td>\n",
       "      <td>1830</td>\n",
       "    </tr>\n",
       "    <tr>\n",
       "      <th>21610</th>\n",
       "      <td>1020</td>\n",
       "      <td>1020</td>\n",
       "    </tr>\n",
       "    <tr>\n",
       "      <th>21611</th>\n",
       "      <td>1600</td>\n",
       "      <td>1410</td>\n",
       "    </tr>\n",
       "    <tr>\n",
       "      <th>21612</th>\n",
       "      <td>1020</td>\n",
       "      <td>1020</td>\n",
       "    </tr>\n",
       "  </tbody>\n",
       "</table>\n",
       "<p>21613 rows × 2 columns</p>\n",
       "</div>"
      ],
      "text/plain": [
       "       sqft_living  sqft_living15\n",
       "0             1180           1340\n",
       "1             2570           1690\n",
       "2              770           2720\n",
       "3             1960           1360\n",
       "4             1680           1800\n",
       "...            ...            ...\n",
       "21608         1530           1530\n",
       "21609         2310           1830\n",
       "21610         1020           1020\n",
       "21611         1600           1410\n",
       "21612         1020           1020\n",
       "\n",
       "[21613 rows x 2 columns]"
      ]
     },
     "execution_count": 12,
     "metadata": {},
     "output_type": "execute_result"
    }
   ],
   "source": [
    "data[['sqft_living', 'sqft_living15']]"
   ]
  },
  {
   "cell_type": "code",
   "execution_count": 13,
   "id": "502265c4",
   "metadata": {},
   "outputs": [
    {
     "data": {
      "text/html": [
       "<div>\n",
       "<style scoped>\n",
       "    .dataframe tbody tr th:only-of-type {\n",
       "        vertical-align: middle;\n",
       "    }\n",
       "\n",
       "    .dataframe tbody tr th {\n",
       "        vertical-align: top;\n",
       "    }\n",
       "\n",
       "    .dataframe thead th {\n",
       "        text-align: right;\n",
       "    }\n",
       "</style>\n",
       "<table border=\"1\" class=\"dataframe\">\n",
       "  <thead>\n",
       "    <tr style=\"text-align: right;\">\n",
       "      <th></th>\n",
       "      <th>sqft_lot</th>\n",
       "      <th>sqft_lot15</th>\n",
       "    </tr>\n",
       "  </thead>\n",
       "  <tbody>\n",
       "    <tr>\n",
       "      <th>0</th>\n",
       "      <td>5650</td>\n",
       "      <td>5650</td>\n",
       "    </tr>\n",
       "    <tr>\n",
       "      <th>1</th>\n",
       "      <td>7242</td>\n",
       "      <td>7639</td>\n",
       "    </tr>\n",
       "    <tr>\n",
       "      <th>2</th>\n",
       "      <td>10000</td>\n",
       "      <td>8062</td>\n",
       "    </tr>\n",
       "    <tr>\n",
       "      <th>3</th>\n",
       "      <td>5000</td>\n",
       "      <td>5000</td>\n",
       "    </tr>\n",
       "    <tr>\n",
       "      <th>4</th>\n",
       "      <td>8080</td>\n",
       "      <td>7503</td>\n",
       "    </tr>\n",
       "    <tr>\n",
       "      <th>...</th>\n",
       "      <td>...</td>\n",
       "      <td>...</td>\n",
       "    </tr>\n",
       "    <tr>\n",
       "      <th>21608</th>\n",
       "      <td>1131</td>\n",
       "      <td>1509</td>\n",
       "    </tr>\n",
       "    <tr>\n",
       "      <th>21609</th>\n",
       "      <td>5813</td>\n",
       "      <td>7200</td>\n",
       "    </tr>\n",
       "    <tr>\n",
       "      <th>21610</th>\n",
       "      <td>1350</td>\n",
       "      <td>2007</td>\n",
       "    </tr>\n",
       "    <tr>\n",
       "      <th>21611</th>\n",
       "      <td>2388</td>\n",
       "      <td>1287</td>\n",
       "    </tr>\n",
       "    <tr>\n",
       "      <th>21612</th>\n",
       "      <td>1076</td>\n",
       "      <td>1357</td>\n",
       "    </tr>\n",
       "  </tbody>\n",
       "</table>\n",
       "<p>21613 rows × 2 columns</p>\n",
       "</div>"
      ],
      "text/plain": [
       "       sqft_lot  sqft_lot15\n",
       "0          5650        5650\n",
       "1          7242        7639\n",
       "2         10000        8062\n",
       "3          5000        5000\n",
       "4          8080        7503\n",
       "...         ...         ...\n",
       "21608      1131        1509\n",
       "21609      5813        7200\n",
       "21610      1350        2007\n",
       "21611      2388        1287\n",
       "21612      1076        1357\n",
       "\n",
       "[21613 rows x 2 columns]"
      ]
     },
     "execution_count": 13,
     "metadata": {},
     "output_type": "execute_result"
    }
   ],
   "source": [
    "data[['sqft_lot', 'sqft_lot15']]"
   ]
  },
  {
   "cell_type": "markdown",
   "id": "a3eec36e",
   "metadata": {},
   "source": [
    "## 1.3 Limpeza de dados"
   ]
  },
  {
   "cell_type": "markdown",
   "id": "fff2b660",
   "metadata": {},
   "source": [
    "### 1.3.1 Alteração de tipo de variável"
   ]
  },
  {
   "cell_type": "code",
   "execution_count": 14,
   "id": "a62d0e8b",
   "metadata": {},
   "outputs": [],
   "source": [
    "data['date'] = pd.to_datetime (data['date'])\n",
    "data['bathrooms'] = data['bathrooms'].astype(np.int64)\n",
    "data['floors'] = data['floors'].astype(np.int64)\n",
    "data['sqft_living15'] = data['sqft_living15'].astype(float)\n",
    "data['sqft_lot15'] = data['sqft_lot15'].astype(float)\n",
    "data['sqft_above'] = data['sqft_above'].astype(float)\n",
    "data['sqft_basement'] = data['sqft_basement'].astype(float)"
   ]
  },
  {
   "cell_type": "code",
   "execution_count": 15,
   "id": "46f6a9cd",
   "metadata": {},
   "outputs": [
    {
     "data": {
      "text/plain": [
       "id                        int64\n",
       "date             datetime64[ns]\n",
       "price                   float64\n",
       "bedrooms                  int64\n",
       "bathrooms                 int64\n",
       "sqft_living               int64\n",
       "sqft_lot                  int64\n",
       "floors                    int64\n",
       "waterfront                int64\n",
       "view                      int64\n",
       "condition                 int64\n",
       "grade                     int64\n",
       "sqft_above              float64\n",
       "sqft_basement           float64\n",
       "yr_built                  int64\n",
       "yr_renovated              int64\n",
       "zipcode                   int64\n",
       "lat                     float64\n",
       "long                    float64\n",
       "sqft_living15           float64\n",
       "sqft_lot15              float64\n",
       "dtype: object"
      ]
     },
     "execution_count": 15,
     "metadata": {},
     "output_type": "execute_result"
    }
   ],
   "source": [
    "data.dtypes"
   ]
  },
  {
   "cell_type": "markdown",
   "id": "7b696388",
   "metadata": {},
   "source": [
    "### 1.3.2 Manipulação das Features"
   ]
  },
  {
   "cell_type": "code",
   "execution_count": 16,
   "id": "a34794ba",
   "metadata": {},
   "outputs": [],
   "source": [
    "# Exclusão de colunas\n",
    "\n",
    "data.drop(columns=['sqft_living15', 'sqft_lot15'], inplace = True)"
   ]
  },
  {
   "cell_type": "code",
   "execution_count": 17,
   "id": "2afa96ea",
   "metadata": {},
   "outputs": [
    {
     "data": {
      "text/html": [
       "<div>\n",
       "<style scoped>\n",
       "    .dataframe tbody tr th:only-of-type {\n",
       "        vertical-align: middle;\n",
       "    }\n",
       "\n",
       "    .dataframe tbody tr th {\n",
       "        vertical-align: top;\n",
       "    }\n",
       "\n",
       "    .dataframe thead th {\n",
       "        text-align: right;\n",
       "    }\n",
       "</style>\n",
       "<table border=\"1\" class=\"dataframe\">\n",
       "  <thead>\n",
       "    <tr style=\"text-align: right;\">\n",
       "      <th></th>\n",
       "      <th>id</th>\n",
       "      <th>date</th>\n",
       "      <th>price</th>\n",
       "      <th>bedrooms</th>\n",
       "      <th>bathrooms</th>\n",
       "      <th>sqft_living</th>\n",
       "      <th>sqft_lot</th>\n",
       "      <th>floors</th>\n",
       "      <th>waterfront</th>\n",
       "      <th>view</th>\n",
       "      <th>condition</th>\n",
       "      <th>grade</th>\n",
       "      <th>sqft_above</th>\n",
       "      <th>sqft_basement</th>\n",
       "      <th>yr_built</th>\n",
       "      <th>yr_renovated</th>\n",
       "      <th>zipcode</th>\n",
       "      <th>lat</th>\n",
       "      <th>long</th>\n",
       "    </tr>\n",
       "  </thead>\n",
       "  <tbody>\n",
       "    <tr>\n",
       "      <th>2496</th>\n",
       "      <td>1000102</td>\n",
       "      <td>2014-09-16</td>\n",
       "      <td>280000.00</td>\n",
       "      <td>6</td>\n",
       "      <td>3</td>\n",
       "      <td>2400</td>\n",
       "      <td>9373</td>\n",
       "      <td>2</td>\n",
       "      <td>0</td>\n",
       "      <td>0</td>\n",
       "      <td>3</td>\n",
       "      <td>7</td>\n",
       "      <td>2400.00</td>\n",
       "      <td>0.00</td>\n",
       "      <td>1991</td>\n",
       "      <td>0</td>\n",
       "      <td>98002</td>\n",
       "      <td>47.33</td>\n",
       "      <td>-122.21</td>\n",
       "    </tr>\n",
       "    <tr>\n",
       "      <th>2497</th>\n",
       "      <td>1000102</td>\n",
       "      <td>2015-04-22</td>\n",
       "      <td>300000.00</td>\n",
       "      <td>6</td>\n",
       "      <td>3</td>\n",
       "      <td>2400</td>\n",
       "      <td>9373</td>\n",
       "      <td>2</td>\n",
       "      <td>0</td>\n",
       "      <td>0</td>\n",
       "      <td>3</td>\n",
       "      <td>7</td>\n",
       "      <td>2400.00</td>\n",
       "      <td>0.00</td>\n",
       "      <td>1991</td>\n",
       "      <td>0</td>\n",
       "      <td>98002</td>\n",
       "      <td>47.33</td>\n",
       "      <td>-122.21</td>\n",
       "    </tr>\n",
       "    <tr>\n",
       "      <th>16814</th>\n",
       "      <td>7200179</td>\n",
       "      <td>2014-10-16</td>\n",
       "      <td>150000.00</td>\n",
       "      <td>2</td>\n",
       "      <td>1</td>\n",
       "      <td>840</td>\n",
       "      <td>12750</td>\n",
       "      <td>1</td>\n",
       "      <td>0</td>\n",
       "      <td>0</td>\n",
       "      <td>3</td>\n",
       "      <td>6</td>\n",
       "      <td>840.00</td>\n",
       "      <td>0.00</td>\n",
       "      <td>1925</td>\n",
       "      <td>0</td>\n",
       "      <td>98055</td>\n",
       "      <td>47.48</td>\n",
       "      <td>-122.21</td>\n",
       "    </tr>\n",
       "    <tr>\n",
       "      <th>16815</th>\n",
       "      <td>7200179</td>\n",
       "      <td>2015-04-24</td>\n",
       "      <td>175000.00</td>\n",
       "      <td>2</td>\n",
       "      <td>1</td>\n",
       "      <td>840</td>\n",
       "      <td>12750</td>\n",
       "      <td>1</td>\n",
       "      <td>0</td>\n",
       "      <td>0</td>\n",
       "      <td>3</td>\n",
       "      <td>6</td>\n",
       "      <td>840.00</td>\n",
       "      <td>0.00</td>\n",
       "      <td>1925</td>\n",
       "      <td>0</td>\n",
       "      <td>98055</td>\n",
       "      <td>47.48</td>\n",
       "      <td>-122.21</td>\n",
       "    </tr>\n",
       "    <tr>\n",
       "      <th>11433</th>\n",
       "      <td>109200390</td>\n",
       "      <td>2014-08-20</td>\n",
       "      <td>245000.00</td>\n",
       "      <td>3</td>\n",
       "      <td>1</td>\n",
       "      <td>1480</td>\n",
       "      <td>3900</td>\n",
       "      <td>1</td>\n",
       "      <td>0</td>\n",
       "      <td>0</td>\n",
       "      <td>4</td>\n",
       "      <td>7</td>\n",
       "      <td>1480.00</td>\n",
       "      <td>0.00</td>\n",
       "      <td>1980</td>\n",
       "      <td>0</td>\n",
       "      <td>98023</td>\n",
       "      <td>47.30</td>\n",
       "      <td>-122.37</td>\n",
       "    </tr>\n",
       "  </tbody>\n",
       "</table>\n",
       "</div>"
      ],
      "text/plain": [
       "              id       date     price  bedrooms  bathrooms  sqft_living  \\\n",
       "2496     1000102 2014-09-16 280000.00         6          3         2400   \n",
       "2497     1000102 2015-04-22 300000.00         6          3         2400   \n",
       "16814    7200179 2014-10-16 150000.00         2          1          840   \n",
       "16815    7200179 2015-04-24 175000.00         2          1          840   \n",
       "11433  109200390 2014-08-20 245000.00         3          1         1480   \n",
       "\n",
       "       sqft_lot  floors  waterfront  view  condition  grade  sqft_above  \\\n",
       "2496       9373       2           0     0          3      7     2400.00   \n",
       "2497       9373       2           0     0          3      7     2400.00   \n",
       "16814     12750       1           0     0          3      6      840.00   \n",
       "16815     12750       1           0     0          3      6      840.00   \n",
       "11433      3900       1           0     0          4      7     1480.00   \n",
       "\n",
       "       sqft_basement  yr_built  yr_renovated  zipcode   lat    long  \n",
       "2496            0.00      1991             0    98002 47.33 -122.21  \n",
       "2497            0.00      1991             0    98002 47.33 -122.21  \n",
       "16814           0.00      1925             0    98055 47.48 -122.21  \n",
       "16815           0.00      1925             0    98055 47.48 -122.21  \n",
       "11433           0.00      1980             0    98023 47.30 -122.37  "
      ]
     },
     "execution_count": 17,
     "metadata": {},
     "output_type": "execute_result"
    }
   ],
   "source": [
    "# Analisando valores duplicados na coluna 'id' \n",
    "\n",
    "data.loc[data['id'].duplicated(keep=False)].sort_values(['id', 'date']).head(5)"
   ]
  },
  {
   "cell_type": "code",
   "execution_count": 18,
   "id": "1a35bffc",
   "metadata": {},
   "outputs": [
    {
     "data": {
      "text/html": [
       "<div>\n",
       "<style scoped>\n",
       "    .dataframe tbody tr th:only-of-type {\n",
       "        vertical-align: middle;\n",
       "    }\n",
       "\n",
       "    .dataframe tbody tr th {\n",
       "        vertical-align: top;\n",
       "    }\n",
       "\n",
       "    .dataframe thead th {\n",
       "        text-align: right;\n",
       "    }\n",
       "</style>\n",
       "<table border=\"1\" class=\"dataframe\">\n",
       "  <thead>\n",
       "    <tr style=\"text-align: right;\">\n",
       "      <th></th>\n",
       "      <th>id</th>\n",
       "      <th>date</th>\n",
       "      <th>price</th>\n",
       "      <th>bedrooms</th>\n",
       "      <th>bathrooms</th>\n",
       "      <th>sqft_living</th>\n",
       "      <th>sqft_lot</th>\n",
       "      <th>floors</th>\n",
       "      <th>waterfront</th>\n",
       "      <th>view</th>\n",
       "      <th>condition</th>\n",
       "      <th>grade</th>\n",
       "      <th>sqft_above</th>\n",
       "      <th>sqft_basement</th>\n",
       "      <th>yr_built</th>\n",
       "      <th>yr_renovated</th>\n",
       "      <th>zipcode</th>\n",
       "      <th>lat</th>\n",
       "      <th>long</th>\n",
       "    </tr>\n",
       "  </thead>\n",
       "  <tbody>\n",
       "  </tbody>\n",
       "</table>\n",
       "</div>"
      ],
      "text/plain": [
       "Empty DataFrame\n",
       "Columns: [id, date, price, bedrooms, bathrooms, sqft_living, sqft_lot, floors, waterfront, view, condition, grade, sqft_above, sqft_basement, yr_built, yr_renovated, zipcode, lat, long]\n",
       "Index: []"
      ]
     },
     "execution_count": 18,
     "metadata": {},
     "output_type": "execute_result"
    }
   ],
   "source": [
    "# deletando valores duplicados\n",
    "\n",
    "data = data.drop_duplicates(subset = ['id'], keep = 'last')\n",
    "\n",
    "data.loc[data['id'].duplicated(keep=False)].sort_values(['id', 'date']).head(5)"
   ]
  },
  {
   "cell_type": "code",
   "execution_count": 19,
   "id": "cd3bb181",
   "metadata": {},
   "outputs": [
    {
     "data": {
      "text/html": [
       "<div>\n",
       "<style scoped>\n",
       "    .dataframe tbody tr th:only-of-type {\n",
       "        vertical-align: middle;\n",
       "    }\n",
       "\n",
       "    .dataframe tbody tr th {\n",
       "        vertical-align: top;\n",
       "    }\n",
       "\n",
       "    .dataframe thead th {\n",
       "        text-align: right;\n",
       "    }\n",
       "</style>\n",
       "<table border=\"1\" class=\"dataframe\">\n",
       "  <thead>\n",
       "    <tr style=\"text-align: right;\">\n",
       "      <th></th>\n",
       "      <th>id</th>\n",
       "      <th>date</th>\n",
       "      <th>price</th>\n",
       "      <th>bedrooms</th>\n",
       "      <th>bathrooms</th>\n",
       "      <th>sqft_living</th>\n",
       "      <th>sqft_lot</th>\n",
       "      <th>floors</th>\n",
       "      <th>waterfront</th>\n",
       "      <th>view</th>\n",
       "      <th>condition</th>\n",
       "      <th>grade</th>\n",
       "      <th>sqft_above</th>\n",
       "      <th>sqft_basement</th>\n",
       "      <th>yr_built</th>\n",
       "      <th>yr_renovated</th>\n",
       "      <th>zipcode</th>\n",
       "      <th>lat</th>\n",
       "      <th>long</th>\n",
       "    </tr>\n",
       "  </thead>\n",
       "  <tbody>\n",
       "    <tr>\n",
       "      <th>15870</th>\n",
       "      <td>2402100895</td>\n",
       "      <td>2014-06-25</td>\n",
       "      <td>640000.00</td>\n",
       "      <td>33</td>\n",
       "      <td>1</td>\n",
       "      <td>1620</td>\n",
       "      <td>6000</td>\n",
       "      <td>1</td>\n",
       "      <td>0</td>\n",
       "      <td>0</td>\n",
       "      <td>5</td>\n",
       "      <td>7</td>\n",
       "      <td>1040.00</td>\n",
       "      <td>580.00</td>\n",
       "      <td>1947</td>\n",
       "      <td>0</td>\n",
       "      <td>98103</td>\n",
       "      <td>47.69</td>\n",
       "      <td>-122.33</td>\n",
       "    </tr>\n",
       "  </tbody>\n",
       "</table>\n",
       "</div>"
      ],
      "text/plain": [
       "               id       date     price  bedrooms  bathrooms  sqft_living  \\\n",
       "15870  2402100895 2014-06-25 640000.00        33          1         1620   \n",
       "\n",
       "       sqft_lot  floors  waterfront  view  condition  grade  sqft_above  \\\n",
       "15870      6000       1           0     0          5      7     1040.00   \n",
       "\n",
       "       sqft_basement  yr_built  yr_renovated  zipcode   lat    long  \n",
       "15870         580.00      1947             0    98103 47.69 -122.33  "
      ]
     },
     "execution_count": 19,
     "metadata": {},
     "output_type": "execute_result"
    }
   ],
   "source": [
    "# deletando outlier 'bedrooms' = 33\n",
    "\n",
    "data.loc[data['bedrooms'] == 33]"
   ]
  },
  {
   "cell_type": "code",
   "execution_count": 20,
   "id": "36c2c165",
   "metadata": {},
   "outputs": [],
   "source": [
    "#com base no tamanho do terreno, sendo um imóvel de um unico pavimento, este imóvel com 33 quartos é considerado\n",
    "#outlier e será excluido da base de dados."
   ]
  },
  {
   "cell_type": "code",
   "execution_count": 21,
   "id": "312ea7e7",
   "metadata": {},
   "outputs": [],
   "source": [
    "data = data.drop(15870)"
   ]
  },
  {
   "cell_type": "code",
   "execution_count": 22,
   "id": "b9ba0aaf",
   "metadata": {},
   "outputs": [
    {
     "data": {
      "text/html": [
       "<div>\n",
       "<style scoped>\n",
       "    .dataframe tbody tr th:only-of-type {\n",
       "        vertical-align: middle;\n",
       "    }\n",
       "\n",
       "    .dataframe tbody tr th {\n",
       "        vertical-align: top;\n",
       "    }\n",
       "\n",
       "    .dataframe thead th {\n",
       "        text-align: right;\n",
       "    }\n",
       "</style>\n",
       "<table border=\"1\" class=\"dataframe\">\n",
       "  <thead>\n",
       "    <tr style=\"text-align: right;\">\n",
       "      <th></th>\n",
       "      <th>id</th>\n",
       "      <th>date</th>\n",
       "      <th>price</th>\n",
       "      <th>bedrooms</th>\n",
       "      <th>bathrooms</th>\n",
       "      <th>sqft_living</th>\n",
       "      <th>sqft_lot</th>\n",
       "      <th>floors</th>\n",
       "      <th>waterfront</th>\n",
       "      <th>view</th>\n",
       "      <th>condition</th>\n",
       "      <th>grade</th>\n",
       "      <th>sqft_above</th>\n",
       "      <th>sqft_basement</th>\n",
       "      <th>yr_built</th>\n",
       "      <th>yr_renovated</th>\n",
       "      <th>zipcode</th>\n",
       "      <th>lat</th>\n",
       "      <th>long</th>\n",
       "    </tr>\n",
       "  </thead>\n",
       "  <tbody>\n",
       "  </tbody>\n",
       "</table>\n",
       "</div>"
      ],
      "text/plain": [
       "Empty DataFrame\n",
       "Columns: [id, date, price, bedrooms, bathrooms, sqft_living, sqft_lot, floors, waterfront, view, condition, grade, sqft_above, sqft_basement, yr_built, yr_renovated, zipcode, lat, long]\n",
       "Index: []"
      ]
     },
     "execution_count": 22,
     "metadata": {},
     "output_type": "execute_result"
    }
   ],
   "source": [
    "data.loc[data['bedrooms'] == 33]"
   ]
  },
  {
   "cell_type": "code",
   "execution_count": 23,
   "id": "62268f52",
   "metadata": {},
   "outputs": [],
   "source": [
    "# Criação de nova feature com a conversão do valor de sqft para m²\n",
    "\n",
    "data['m2_living'] = data['sqft_living']*0.09290304\n",
    "\n",
    "data['m2_lot'] = data['sqft_lot']*0.09290304"
   ]
  },
  {
   "cell_type": "code",
   "execution_count": 24,
   "id": "b109b253",
   "metadata": {},
   "outputs": [
    {
     "data": {
      "text/html": [
       "<div>\n",
       "<style scoped>\n",
       "    .dataframe tbody tr th:only-of-type {\n",
       "        vertical-align: middle;\n",
       "    }\n",
       "\n",
       "    .dataframe tbody tr th {\n",
       "        vertical-align: top;\n",
       "    }\n",
       "\n",
       "    .dataframe thead th {\n",
       "        text-align: right;\n",
       "    }\n",
       "</style>\n",
       "<table border=\"1\" class=\"dataframe\">\n",
       "  <thead>\n",
       "    <tr style=\"text-align: right;\">\n",
       "      <th></th>\n",
       "      <th>sqft_living</th>\n",
       "      <th>m2_living</th>\n",
       "      <th>sqft_lot</th>\n",
       "      <th>m2_lot</th>\n",
       "    </tr>\n",
       "  </thead>\n",
       "  <tbody>\n",
       "    <tr>\n",
       "      <th>0</th>\n",
       "      <td>1180</td>\n",
       "      <td>109.63</td>\n",
       "      <td>5650</td>\n",
       "      <td>524.90</td>\n",
       "    </tr>\n",
       "    <tr>\n",
       "      <th>1</th>\n",
       "      <td>2570</td>\n",
       "      <td>238.76</td>\n",
       "      <td>7242</td>\n",
       "      <td>672.80</td>\n",
       "    </tr>\n",
       "    <tr>\n",
       "      <th>2</th>\n",
       "      <td>770</td>\n",
       "      <td>71.54</td>\n",
       "      <td>10000</td>\n",
       "      <td>929.03</td>\n",
       "    </tr>\n",
       "    <tr>\n",
       "      <th>3</th>\n",
       "      <td>1960</td>\n",
       "      <td>182.09</td>\n",
       "      <td>5000</td>\n",
       "      <td>464.52</td>\n",
       "    </tr>\n",
       "    <tr>\n",
       "      <th>4</th>\n",
       "      <td>1680</td>\n",
       "      <td>156.08</td>\n",
       "      <td>8080</td>\n",
       "      <td>750.66</td>\n",
       "    </tr>\n",
       "    <tr>\n",
       "      <th>...</th>\n",
       "      <td>...</td>\n",
       "      <td>...</td>\n",
       "      <td>...</td>\n",
       "      <td>...</td>\n",
       "    </tr>\n",
       "    <tr>\n",
       "      <th>21608</th>\n",
       "      <td>1530</td>\n",
       "      <td>142.14</td>\n",
       "      <td>1131</td>\n",
       "      <td>105.07</td>\n",
       "    </tr>\n",
       "    <tr>\n",
       "      <th>21609</th>\n",
       "      <td>2310</td>\n",
       "      <td>214.61</td>\n",
       "      <td>5813</td>\n",
       "      <td>540.05</td>\n",
       "    </tr>\n",
       "    <tr>\n",
       "      <th>21610</th>\n",
       "      <td>1020</td>\n",
       "      <td>94.76</td>\n",
       "      <td>1350</td>\n",
       "      <td>125.42</td>\n",
       "    </tr>\n",
       "    <tr>\n",
       "      <th>21611</th>\n",
       "      <td>1600</td>\n",
       "      <td>148.64</td>\n",
       "      <td>2388</td>\n",
       "      <td>221.85</td>\n",
       "    </tr>\n",
       "    <tr>\n",
       "      <th>21612</th>\n",
       "      <td>1020</td>\n",
       "      <td>94.76</td>\n",
       "      <td>1076</td>\n",
       "      <td>99.96</td>\n",
       "    </tr>\n",
       "  </tbody>\n",
       "</table>\n",
       "<p>21435 rows × 4 columns</p>\n",
       "</div>"
      ],
      "text/plain": [
       "       sqft_living  m2_living  sqft_lot  m2_lot\n",
       "0             1180     109.63      5650  524.90\n",
       "1             2570     238.76      7242  672.80\n",
       "2              770      71.54     10000  929.03\n",
       "3             1960     182.09      5000  464.52\n",
       "4             1680     156.08      8080  750.66\n",
       "...            ...        ...       ...     ...\n",
       "21608         1530     142.14      1131  105.07\n",
       "21609         2310     214.61      5813  540.05\n",
       "21610         1020      94.76      1350  125.42\n",
       "21611         1600     148.64      2388  221.85\n",
       "21612         1020      94.76      1076   99.96\n",
       "\n",
       "[21435 rows x 4 columns]"
      ]
     },
     "execution_count": 24,
     "metadata": {},
     "output_type": "execute_result"
    }
   ],
   "source": [
    "data[['sqft_living', 'm2_living', 'sqft_lot' , 'm2_lot']]"
   ]
  },
  {
   "cell_type": "code",
   "execution_count": 25,
   "id": "4d2ed47b",
   "metadata": {},
   "outputs": [],
   "source": [
    "# Criando nova feature para descrever a condição das casas\n",
    "\n",
    "data['condition_type'] = data['condition'].apply (lambda x: 'bad' if x <= 2  \n",
    "                                                         else 'regular' if (x == 3) | (x == 4)  \n",
    "                                                         else 'good')"
   ]
  },
  {
   "cell_type": "code",
   "execution_count": 26,
   "id": "d896e3f7",
   "metadata": {},
   "outputs": [
    {
     "data": {
      "text/plain": [
       "0        regular\n",
       "1        regular\n",
       "2        regular\n",
       "3           good\n",
       "4        regular\n",
       "          ...   \n",
       "21608    regular\n",
       "21609    regular\n",
       "21610    regular\n",
       "21611    regular\n",
       "21612    regular\n",
       "Name: condition_type, Length: 21435, dtype: object"
      ]
     },
     "execution_count": 26,
     "metadata": {},
     "output_type": "execute_result"
    }
   ],
   "source": [
    "data['condition_type']"
   ]
  },
  {
   "cell_type": "code",
   "execution_count": 119,
   "id": "4f82716d",
   "metadata": {},
   "outputs": [],
   "source": [
    "# Criando nova feature para descrever o tipo de vista (boa ou ruim)\n",
    "\n",
    "data['condition_view'] = data['view'].apply (lambda x: 'bad' if x <= 2  \n",
    "                                                        else 'good')"
   ]
  },
  {
   "cell_type": "code",
   "execution_count": 122,
   "id": "ac132c8c",
   "metadata": {},
   "outputs": [
    {
     "data": {
      "text/plain": [
       "0        bad\n",
       "1        bad\n",
       "2        bad\n",
       "3        bad\n",
       "4        bad\n",
       "        ... \n",
       "21608    bad\n",
       "21609    bad\n",
       "21610    bad\n",
       "21611    bad\n",
       "21612    bad\n",
       "Name: condition_view, Length: 21435, dtype: object"
      ]
     },
     "execution_count": 122,
     "metadata": {},
     "output_type": "execute_result"
    }
   ],
   "source": [
    "data['condition_view']"
   ]
  },
  {
   "cell_type": "code",
   "execution_count": 27,
   "id": "4c7a6db9",
   "metadata": {},
   "outputs": [],
   "source": [
    "# Criando nova feature para segmentar ano de construção com relação a ano\n",
    "\n",
    "data ['built'] = data['yr_built'].apply(lambda x: 'anterior à 1955' if x <= 1955\n",
    "                                                else 'posterior à 1955')\n",
    "\n"
   ]
  },
  {
   "cell_type": "code",
   "execution_count": 28,
   "id": "1c9ed449",
   "metadata": {},
   "outputs": [],
   "source": [
    "# Criando nova feature para identificar imóveis com e sem porão\n",
    "\n",
    "data['basement'] = data['sqft_basement'].apply (lambda x: 'com porão' if x > 0 else 'sem porão')"
   ]
  },
  {
   "cell_type": "code",
   "execution_count": 29,
   "id": "ac6ab08a",
   "metadata": {},
   "outputs": [],
   "source": [
    "# Criando novas features para segmentar por mês e ano\n",
    "\n",
    "data['month'] = data['date'].dt.month\n",
    "data['year'] = data['date'].dt.year"
   ]
  },
  {
   "cell_type": "code",
   "execution_count": 30,
   "id": "084307d6",
   "metadata": {},
   "outputs": [],
   "source": [
    "# Criando novas features para unificar imóveis reformados e não reformados\n",
    "\n",
    "data['renovated'] = data['yr_renovated'].apply(lambda x:'sim' if x > 0 else 'não')"
   ]
  },
  {
   "cell_type": "code",
   "execution_count": 31,
   "id": "2d2468e2",
   "metadata": {},
   "outputs": [],
   "source": [
    "# Criando nova feature para segmentar estações do ano (sazonalidade)\n",
    "\n",
    "data['season'] = data['month'].apply(lambda x:'spring' if 3 <= x <= 5 else\n",
    "                                              'summer' if 6 <= x <= 8 else\n",
    "                                              'autumn' if 9 <= x <= 11 else\n",
    "                                              'winter' )"
   ]
  },
  {
   "cell_type": "code",
   "execution_count": 32,
   "id": "9b2d924c",
   "metadata": {},
   "outputs": [
    {
     "name": "stderr",
     "output_type": "stream",
     "text": [
      "C:\\Users\\ivero\\AppData\\Local\\Temp\\ipykernel_10672\\1178670103.py:5: UserWarning: Pandas doesn't allow columns to be created via a new attribute name - see https://pandas.pydata.org/pandas-docs/stable/indexing.html#attribute-access\n",
      "  data.statistic = pd.DataFrame (valores_est.describe().T)\n"
     ]
    },
    {
     "data": {
      "text/html": [
       "<div>\n",
       "<style scoped>\n",
       "    .dataframe tbody tr th:only-of-type {\n",
       "        vertical-align: middle;\n",
       "    }\n",
       "\n",
       "    .dataframe tbody tr th {\n",
       "        vertical-align: top;\n",
       "    }\n",
       "\n",
       "    .dataframe thead th {\n",
       "        text-align: right;\n",
       "    }\n",
       "</style>\n",
       "<table border=\"1\" class=\"dataframe\">\n",
       "  <thead>\n",
       "    <tr style=\"text-align: right;\">\n",
       "      <th></th>\n",
       "      <th>Count</th>\n",
       "      <th>Media</th>\n",
       "      <th>STD</th>\n",
       "      <th>Min</th>\n",
       "      <th>25%</th>\n",
       "      <th>Mediana</th>\n",
       "      <th>75%</th>\n",
       "      <th>Max</th>\n",
       "    </tr>\n",
       "  </thead>\n",
       "  <tbody>\n",
       "    <tr>\n",
       "      <th>price</th>\n",
       "      <td>21435.00</td>\n",
       "      <td>541645.37</td>\n",
       "      <td>367322.88</td>\n",
       "      <td>75000.00</td>\n",
       "      <td>324844.00</td>\n",
       "      <td>450000.00</td>\n",
       "      <td>645000.00</td>\n",
       "      <td>7700000.00</td>\n",
       "    </tr>\n",
       "    <tr>\n",
       "      <th>bedrooms</th>\n",
       "      <td>21435.00</td>\n",
       "      <td>3.37</td>\n",
       "      <td>0.91</td>\n",
       "      <td>0.00</td>\n",
       "      <td>3.00</td>\n",
       "      <td>3.00</td>\n",
       "      <td>4.00</td>\n",
       "      <td>11.00</td>\n",
       "    </tr>\n",
       "    <tr>\n",
       "      <th>bathrooms</th>\n",
       "      <td>21435.00</td>\n",
       "      <td>1.75</td>\n",
       "      <td>0.73</td>\n",
       "      <td>0.00</td>\n",
       "      <td>1.00</td>\n",
       "      <td>2.00</td>\n",
       "      <td>2.00</td>\n",
       "      <td>8.00</td>\n",
       "    </tr>\n",
       "    <tr>\n",
       "      <th>floors</th>\n",
       "      <td>21435.00</td>\n",
       "      <td>1.45</td>\n",
       "      <td>0.55</td>\n",
       "      <td>1.00</td>\n",
       "      <td>1.00</td>\n",
       "      <td>1.00</td>\n",
       "      <td>2.00</td>\n",
       "      <td>3.00</td>\n",
       "    </tr>\n",
       "    <tr>\n",
       "      <th>waterfront</th>\n",
       "      <td>21435.00</td>\n",
       "      <td>0.01</td>\n",
       "      <td>0.09</td>\n",
       "      <td>0.00</td>\n",
       "      <td>0.00</td>\n",
       "      <td>0.00</td>\n",
       "      <td>0.00</td>\n",
       "      <td>1.00</td>\n",
       "    </tr>\n",
       "    <tr>\n",
       "      <th>m2_living</th>\n",
       "      <td>21435.00</td>\n",
       "      <td>193.49</td>\n",
       "      <td>85.39</td>\n",
       "      <td>26.94</td>\n",
       "      <td>132.85</td>\n",
       "      <td>178.37</td>\n",
       "      <td>236.90</td>\n",
       "      <td>1257.91</td>\n",
       "    </tr>\n",
       "    <tr>\n",
       "      <th>m2_lot</th>\n",
       "      <td>21435.00</td>\n",
       "      <td>1406.19</td>\n",
       "      <td>3859.15</td>\n",
       "      <td>48.31</td>\n",
       "      <td>468.23</td>\n",
       "      <td>707.36</td>\n",
       "      <td>993.74</td>\n",
       "      <td>153416.27</td>\n",
       "    </tr>\n",
       "  </tbody>\n",
       "</table>\n",
       "</div>"
      ],
      "text/plain": [
       "              Count     Media       STD      Min       25%   Mediana  \\\n",
       "price      21435.00 541645.37 367322.88 75000.00 324844.00 450000.00   \n",
       "bedrooms   21435.00      3.37      0.91     0.00      3.00      3.00   \n",
       "bathrooms  21435.00      1.75      0.73     0.00      1.00      2.00   \n",
       "floors     21435.00      1.45      0.55     1.00      1.00      1.00   \n",
       "waterfront 21435.00      0.01      0.09     0.00      0.00      0.00   \n",
       "m2_living  21435.00    193.49     85.39    26.94    132.85    178.37   \n",
       "m2_lot     21435.00   1406.19   3859.15    48.31    468.23    707.36   \n",
       "\n",
       "                 75%        Max  \n",
       "price      645000.00 7700000.00  \n",
       "bedrooms        4.00      11.00  \n",
       "bathrooms       2.00       8.00  \n",
       "floors          2.00       3.00  \n",
       "waterfront      0.00       1.00  \n",
       "m2_living     236.90    1257.91  \n",
       "m2_lot        993.74  153416.27  "
      ]
     },
     "execution_count": 32,
     "metadata": {},
     "output_type": "execute_result"
    }
   ],
   "source": [
    "#Estatísticas\n",
    "\n",
    "valores_est = data[['price', 'bedrooms', 'bathrooms', 'floors', 'waterfront', 'm2_living', 'm2_lot']]\n",
    "\n",
    "data.statistic = pd.DataFrame (valores_est.describe().T)\n",
    "\n",
    "data.statistic.columns = ['Count', 'Media', 'STD', 'Min', '25%', 'Mediana', '75%', 'Max']\n",
    "data.statistic \n"
   ]
  },
  {
   "cell_type": "code",
   "execution_count": 34,
   "id": "8a5db7bc",
   "metadata": {},
   "outputs": [
    {
     "data": {
      "text/html": [
       "<div>\n",
       "<style scoped>\n",
       "    .dataframe tbody tr th:only-of-type {\n",
       "        vertical-align: middle;\n",
       "    }\n",
       "\n",
       "    .dataframe tbody tr th {\n",
       "        vertical-align: top;\n",
       "    }\n",
       "\n",
       "    .dataframe thead th {\n",
       "        text-align: right;\n",
       "    }\n",
       "</style>\n",
       "<table border=\"1\" class=\"dataframe\">\n",
       "  <thead>\n",
       "    <tr style=\"text-align: right;\">\n",
       "      <th></th>\n",
       "      <th>id</th>\n",
       "      <th>date</th>\n",
       "      <th>price</th>\n",
       "      <th>bedrooms</th>\n",
       "      <th>bathrooms</th>\n",
       "      <th>sqft_living</th>\n",
       "      <th>sqft_lot</th>\n",
       "      <th>floors</th>\n",
       "      <th>waterfront</th>\n",
       "      <th>view</th>\n",
       "      <th>...</th>\n",
       "      <th>long</th>\n",
       "      <th>m2_living</th>\n",
       "      <th>m2_lot</th>\n",
       "      <th>condition_type</th>\n",
       "      <th>built</th>\n",
       "      <th>basement</th>\n",
       "      <th>month</th>\n",
       "      <th>year</th>\n",
       "      <th>renovated</th>\n",
       "      <th>season</th>\n",
       "    </tr>\n",
       "  </thead>\n",
       "  <tbody>\n",
       "    <tr>\n",
       "      <th>0</th>\n",
       "      <td>7129300520</td>\n",
       "      <td>2014-10-13</td>\n",
       "      <td>221900.00</td>\n",
       "      <td>3</td>\n",
       "      <td>1</td>\n",
       "      <td>1180</td>\n",
       "      <td>5650</td>\n",
       "      <td>1</td>\n",
       "      <td>0</td>\n",
       "      <td>0</td>\n",
       "      <td>...</td>\n",
       "      <td>-122.26</td>\n",
       "      <td>109.63</td>\n",
       "      <td>524.90</td>\n",
       "      <td>regular</td>\n",
       "      <td>anterior à 1955</td>\n",
       "      <td>sem porão</td>\n",
       "      <td>10</td>\n",
       "      <td>2014</td>\n",
       "      <td>não</td>\n",
       "      <td>autumn</td>\n",
       "    </tr>\n",
       "    <tr>\n",
       "      <th>1</th>\n",
       "      <td>6414100192</td>\n",
       "      <td>2014-12-09</td>\n",
       "      <td>538000.00</td>\n",
       "      <td>3</td>\n",
       "      <td>2</td>\n",
       "      <td>2570</td>\n",
       "      <td>7242</td>\n",
       "      <td>2</td>\n",
       "      <td>0</td>\n",
       "      <td>0</td>\n",
       "      <td>...</td>\n",
       "      <td>-122.32</td>\n",
       "      <td>238.76</td>\n",
       "      <td>672.80</td>\n",
       "      <td>regular</td>\n",
       "      <td>anterior à 1955</td>\n",
       "      <td>com porão</td>\n",
       "      <td>12</td>\n",
       "      <td>2014</td>\n",
       "      <td>sim</td>\n",
       "      <td>winter</td>\n",
       "    </tr>\n",
       "    <tr>\n",
       "      <th>2</th>\n",
       "      <td>5631500400</td>\n",
       "      <td>2015-02-25</td>\n",
       "      <td>180000.00</td>\n",
       "      <td>2</td>\n",
       "      <td>1</td>\n",
       "      <td>770</td>\n",
       "      <td>10000</td>\n",
       "      <td>1</td>\n",
       "      <td>0</td>\n",
       "      <td>0</td>\n",
       "      <td>...</td>\n",
       "      <td>-122.23</td>\n",
       "      <td>71.54</td>\n",
       "      <td>929.03</td>\n",
       "      <td>regular</td>\n",
       "      <td>anterior à 1955</td>\n",
       "      <td>sem porão</td>\n",
       "      <td>2</td>\n",
       "      <td>2015</td>\n",
       "      <td>não</td>\n",
       "      <td>winter</td>\n",
       "    </tr>\n",
       "    <tr>\n",
       "      <th>3</th>\n",
       "      <td>2487200875</td>\n",
       "      <td>2014-12-09</td>\n",
       "      <td>604000.00</td>\n",
       "      <td>4</td>\n",
       "      <td>3</td>\n",
       "      <td>1960</td>\n",
       "      <td>5000</td>\n",
       "      <td>1</td>\n",
       "      <td>0</td>\n",
       "      <td>0</td>\n",
       "      <td>...</td>\n",
       "      <td>-122.39</td>\n",
       "      <td>182.09</td>\n",
       "      <td>464.52</td>\n",
       "      <td>good</td>\n",
       "      <td>posterior à 1955</td>\n",
       "      <td>com porão</td>\n",
       "      <td>12</td>\n",
       "      <td>2014</td>\n",
       "      <td>não</td>\n",
       "      <td>winter</td>\n",
       "    </tr>\n",
       "    <tr>\n",
       "      <th>4</th>\n",
       "      <td>1954400510</td>\n",
       "      <td>2015-02-18</td>\n",
       "      <td>510000.00</td>\n",
       "      <td>3</td>\n",
       "      <td>2</td>\n",
       "      <td>1680</td>\n",
       "      <td>8080</td>\n",
       "      <td>1</td>\n",
       "      <td>0</td>\n",
       "      <td>0</td>\n",
       "      <td>...</td>\n",
       "      <td>-122.05</td>\n",
       "      <td>156.08</td>\n",
       "      <td>750.66</td>\n",
       "      <td>regular</td>\n",
       "      <td>posterior à 1955</td>\n",
       "      <td>sem porão</td>\n",
       "      <td>2</td>\n",
       "      <td>2015</td>\n",
       "      <td>não</td>\n",
       "      <td>winter</td>\n",
       "    </tr>\n",
       "  </tbody>\n",
       "</table>\n",
       "<p>5 rows × 28 columns</p>\n",
       "</div>"
      ],
      "text/plain": [
       "           id       date     price  bedrooms  bathrooms  sqft_living  \\\n",
       "0  7129300520 2014-10-13 221900.00         3          1         1180   \n",
       "1  6414100192 2014-12-09 538000.00         3          2         2570   \n",
       "2  5631500400 2015-02-25 180000.00         2          1          770   \n",
       "3  2487200875 2014-12-09 604000.00         4          3         1960   \n",
       "4  1954400510 2015-02-18 510000.00         3          2         1680   \n",
       "\n",
       "   sqft_lot  floors  waterfront  view  ...    long  m2_living  m2_lot  \\\n",
       "0      5650       1           0     0  ... -122.26     109.63  524.90   \n",
       "1      7242       2           0     0  ... -122.32     238.76  672.80   \n",
       "2     10000       1           0     0  ... -122.23      71.54  929.03   \n",
       "3      5000       1           0     0  ... -122.39     182.09  464.52   \n",
       "4      8080       1           0     0  ... -122.05     156.08  750.66   \n",
       "\n",
       "   condition_type             built   basement  month  year  renovated  season  \n",
       "0         regular   anterior à 1955  sem porão     10  2014        não  autumn  \n",
       "1         regular   anterior à 1955  com porão     12  2014        sim  winter  \n",
       "2         regular   anterior à 1955  sem porão      2  2015        não  winter  \n",
       "3            good  posterior à 1955  com porão     12  2014        não  winter  \n",
       "4         regular  posterior à 1955  sem porão      2  2015        não  winter  \n",
       "\n",
       "[5 rows x 28 columns]"
      ]
     },
     "execution_count": 34,
     "metadata": {},
     "output_type": "execute_result"
    }
   ],
   "source": [
    "data.head()"
   ]
  },
  {
   "cell_type": "code",
   "execution_count": 35,
   "id": "326ebf34",
   "metadata": {},
   "outputs": [
    {
     "data": {
      "image/png": "[encoded data removed]",
      "text/plain": [
       "<Figure size 1440x1080 with 25 Axes>"
      ]
     },
     "metadata": {
      "needs_background": "light"
     },
     "output_type": "display_data"
    }
   ],
   "source": [
    "data.hist(figsize=(20,15));\n",
    "plt.tight_layout()\n",
    "plt.show()"
   ]
  },
  {
   "cell_type": "markdown",
   "id": "b20de553",
   "metadata": {},
   "source": [
    "## 2.0 Exploração de dados"
   ]
  },
  {
   "cell_type": "code",
   "execution_count": 127,
   "id": "b30a144c",
   "metadata": {},
   "outputs": [
    {
     "data": {
      "image/png": "[encoded data removed]",
      "text/plain": [
       "<Figure size 792x504 with 2 Axes>"
      ]
     },
     "metadata": {},
     "output_type": "display_data"
    }
   ],
   "source": [
    "matrix = np.triu(data.corr())\n",
    "\n",
    "sns.heatmap(data.corr(), cmap = 'GnBu', square = True, annot=True, annot_kws={\"size\":6}, cbar_kws={\"shrink\":1}, center = 0,\n",
    "             mask = matrix);\n",
    "\n",
    "#sns.heatmap(data.corr(),linewidths=0.50,vmax=1,square=True,cmap=\"GnBu\",linecolor='w',\n",
    " #           annot=True, annot_kws={\"size\":6}, cbar_kws={\"shrink\":1}, mask = matrix)"
   ]
  },
  {
   "cell_type": "code",
   "execution_count": null,
   "id": "27f652c1",
   "metadata": {},
   "outputs": [],
   "source": []
  },
  {
   "cell_type": "markdown",
   "id": "6dab4338",
   "metadata": {},
   "source": [
    "## 1. Criar visualizações para responder as hipoteses de negócio"
   ]
  },
  {
   "cell_type": "markdown",
   "id": "1487b15c",
   "metadata": {},
   "source": [
    "### H1: Imóveis que possuem vista para água, são, em média, 30% mais caros.\n",
    "\n",
    "#### Hipótese falsa"
   ]
  },
  {
   "cell_type": "code",
   "execution_count": 38,
   "id": "52b7a7c5",
   "metadata": {},
   "outputs": [
    {
     "data": {
      "image/png": "[encoded data removed]",
      "text/plain": [
       "<Figure size 792x504 with 1 Axes>"
      ]
     },
     "metadata": {
      "needs_background": "light"
     },
     "output_type": "display_data"
    },
    {
     "name": "stdout",
     "output_type": "stream",
     "text": [
      "Imóveis com vista para água são, em média, 211.76% mais caros.\n"
     ]
    }
   ],
   "source": [
    "h1 = data[['price', 'waterfront']].groupby (['waterfront']).mean().reset_index()\n",
    "\n",
    "sns.barplot(x='waterfront', y='price', data = h1, palette=['b','r'] )\n",
    "plt.show()\n",
    "\n",
    "h1['percent'] = h1 ['price'].pct_change()\n",
    "print (f'Imóveis com vista para água são, em média, {h1.iloc[1,2]:.2%} mais caros.')"
   ]
  },
  {
   "cell_type": "markdown",
   "id": "f55c0c3c",
   "metadata": {},
   "source": [
    "### H2: Imóveis com data de construção menor que 1955, são 50% mais baratos, na média.\n",
    "\n",
    "#### Hipótese Falsa\n"
   ]
  },
  {
   "cell_type": "code",
   "execution_count": 39,
   "id": "882ed1dd",
   "metadata": {},
   "outputs": [
    {
     "data": {
      "image/png": "[encoded data removed]",
      "text/plain": [
       "<Figure size 792x504 with 1 Axes>"
      ]
     },
     "metadata": {
      "needs_background": "light"
     },
     "output_type": "display_data"
    },
    {
     "name": "stdout",
     "output_type": "stream",
     "text": [
      "Imóveis de construção anterior à 1955 são, em média, 1.40% mais baratos.\n"
     ]
    }
   ],
   "source": [
    "h2 = data [['price', 'built']].groupby (['built']).mean().reset_index()\n",
    "\n",
    "sns.barplot(x='built', y='price', data = h2, palette=['b','r'])\n",
    "plt.show()\n",
    "\n",
    "h2['percent'] = h2 ['price'].pct_change()\n",
    "print (f'Imóveis de construção anterior à 1955 são, em média, {h2.iloc[1,2]:.2%} mais baratos.')"
   ]
  },
  {
   "cell_type": "markdown",
   "id": "5a4f1bed",
   "metadata": {},
   "source": [
    "### H3: Imóveis sem porão possuem área total ('sqrt_lot') 50% maiores do que imóveis com porão."
   ]
  },
  {
   "cell_type": "code",
   "execution_count": 40,
   "id": "5af3be9d",
   "metadata": {},
   "outputs": [
    {
     "data": {
      "image/png": "[encoded data removed]",
      "text/plain": [
       "<Figure size 792x504 with 1 Axes>"
      ]
     },
     "metadata": {
      "needs_background": "light"
     },
     "output_type": "display_data"
    },
    {
     "name": "stdout",
     "output_type": "stream",
     "text": [
      "Imóveis sem porão tem área total, em média, 22.78% maiores do que os imóveis sem porão.\n"
     ]
    }
   ],
   "source": [
    "h3 = data[['basement', 'm2_lot']].groupby (['basement']).mean().reset_index()\n",
    "\n",
    "sns.barplot(x='basement', y='m2_lot', data = h3, palette=['b','r'] )\n",
    "plt.show()\n",
    "\n",
    "h3['percent'] = h3 ['m2_lot'].pct_change()\n",
    "print (f'Imóveis sem porão tem área total, em média, {h3.iloc[1,2]:.2%} maiores do que os imóveis sem porão.')\n"
   ]
  },
  {
   "cell_type": "markdown",
   "id": "d82808a9",
   "metadata": {},
   "source": [
    "### H4: O crescimento do preço dos imóveis YoY ( Year over Year ) é de 10%.\n",
    "\n"
   ]
  },
  {
   "cell_type": "code",
   "execution_count": 41,
   "id": "8846cf61",
   "metadata": {},
   "outputs": [
    {
     "data": {
      "image/png": "[encoded data removed]",
      "text/plain": [
       "<Figure size 792x504 with 1 Axes>"
      ]
     },
     "metadata": {
      "needs_background": "light"
     },
     "output_type": "display_data"
    },
    {
     "name": "stdout",
     "output_type": "stream",
     "text": [
      "O crescimento do preço dos imóveis variou em média, 0.18% ano a ano.\n"
     ]
    }
   ],
   "source": [
    "h4 = data[['year', 'price']].groupby ('year').mean().reset_index()\n",
    "\n",
    "sns.barplot(x='year', y='price', data=h4, palette=['b','r'])\n",
    "plt.show()\n",
    "\n",
    "h4['percent'] = h4['price'].pct_change()\n",
    "print (f'O crescimento do preço dos imóveis variou em média, {h4.iloc[1,2]:.2%} ano a ano.')\n",
    "\n"
   ]
  },
  {
   "cell_type": "code",
   "execution_count": 42,
   "id": "cbeeaa7d",
   "metadata": {},
   "outputs": [
    {
     "data": {
      "text/html": [
       "<div>\n",
       "<style scoped>\n",
       "    .dataframe tbody tr th:only-of-type {\n",
       "        vertical-align: middle;\n",
       "    }\n",
       "\n",
       "    .dataframe tbody tr th {\n",
       "        vertical-align: top;\n",
       "    }\n",
       "\n",
       "    .dataframe thead th {\n",
       "        text-align: right;\n",
       "    }\n",
       "</style>\n",
       "<table border=\"1\" class=\"dataframe\">\n",
       "  <thead>\n",
       "    <tr style=\"text-align: right;\">\n",
       "      <th></th>\n",
       "      <th>year</th>\n",
       "      <th>price</th>\n",
       "    </tr>\n",
       "  </thead>\n",
       "  <tbody>\n",
       "    <tr>\n",
       "      <th>0</th>\n",
       "      <td>2014</td>\n",
       "      <td>14463</td>\n",
       "    </tr>\n",
       "    <tr>\n",
       "      <th>1</th>\n",
       "      <td>2015</td>\n",
       "      <td>6972</td>\n",
       "    </tr>\n",
       "  </tbody>\n",
       "</table>\n",
       "</div>"
      ],
      "text/plain": [
       "   year  price\n",
       "0  2014  14463\n",
       "1  2015   6972"
      ]
     },
     "execution_count": 42,
     "metadata": {},
     "output_type": "execute_result"
    }
   ],
   "source": [
    "data[['year', 'price']].groupby ('year').count().reset_index()"
   ]
  },
  {
   "cell_type": "code",
   "execution_count": 43,
   "id": "acb2a4ef",
   "metadata": {},
   "outputs": [
    {
     "data": {
      "image/png": "[encoded data removed]",
      "text/plain": [
       "<Figure size 792x504 with 1 Axes>"
      ]
     },
     "metadata": {},
     "output_type": "display_data"
    }
   ],
   "source": [
    "sns.set_theme()\n",
    "sns.lineplot(data = h4, x = 'year',  y = 'price', \n",
    "             markers = True, style = (1), legend = False, \n",
    "             color = 'blue');"
   ]
  },
  {
   "cell_type": "code",
   "execution_count": 44,
   "id": "414cbdb5",
   "metadata": {},
   "outputs": [
    {
     "data": {
      "text/plain": [
       "0.18039255580595198"
      ]
     },
     "execution_count": 44,
     "metadata": {},
     "output_type": "execute_result"
    }
   ],
   "source": [
    "##YoY = (período atual – período anterior) / período anterior x 100\n",
    "\n",
    "( (h4.loc[1,'price']) - (h4.loc[0,'price']) ) / (h4.loc[0,'price']) * 100"
   ]
  },
  {
   "cell_type": "markdown",
   "id": "84037214",
   "metadata": {},
   "source": [
    "### H5: O crescimento do preço dos imóveis MoM ( Month over Month ) é de 5%."
   ]
  },
  {
   "cell_type": "code",
   "execution_count": 45,
   "id": "e4e8ba04",
   "metadata": {},
   "outputs": [
    {
     "data": {
      "image/png": "[encoded data removed]",
      "text/plain": [
       "<Figure size 792x504 with 1 Axes>"
      ]
     },
     "metadata": {},
     "output_type": "display_data"
    }
   ],
   "source": [
    "h5_14 = data [(data['year'] == 2014)]\n",
    "\n",
    "h5_14 = h5_14[['month', 'price']].groupby ('month').mean().reset_index()\n",
    "\n",
    "sns.set_theme()\n",
    "sns.lineplot(data = h5_14, x = 'month',  y = 'price', \n",
    "             markers = True, style = (1), legend = False, \n",
    "             color = 'blue');"
   ]
  },
  {
   "cell_type": "code",
   "execution_count": 113,
   "id": "232ba1da",
   "metadata": {},
   "outputs": [
    {
     "data": {
      "text/html": [
       "<div>\n",
       "<style scoped>\n",
       "    .dataframe tbody tr th:only-of-type {\n",
       "        vertical-align: middle;\n",
       "    }\n",
       "\n",
       "    .dataframe tbody tr th {\n",
       "        vertical-align: top;\n",
       "    }\n",
       "\n",
       "    .dataframe thead th {\n",
       "        text-align: right;\n",
       "    }\n",
       "</style>\n",
       "<table border=\"1\" class=\"dataframe\">\n",
       "  <thead>\n",
       "    <tr style=\"text-align: right;\">\n",
       "      <th></th>\n",
       "      <th>month</th>\n",
       "      <th>price</th>\n",
       "      <th>crescimento</th>\n",
       "    </tr>\n",
       "  </thead>\n",
       "  <tbody>\n",
       "    <tr>\n",
       "      <th>0</th>\n",
       "      <td>5</td>\n",
       "      <td>549257.04</td>\n",
       "      <td>NaN</td>\n",
       "    </tr>\n",
       "    <tr>\n",
       "      <th>1</th>\n",
       "      <td>6</td>\n",
       "      <td>559266.99</td>\n",
       "      <td>0.02</td>\n",
       "    </tr>\n",
       "    <tr>\n",
       "      <th>2</th>\n",
       "      <td>7</td>\n",
       "      <td>546903.58</td>\n",
       "      <td>-0.02</td>\n",
       "    </tr>\n",
       "    <tr>\n",
       "      <th>3</th>\n",
       "      <td>8</td>\n",
       "      <td>539608.15</td>\n",
       "      <td>-0.01</td>\n",
       "    </tr>\n",
       "    <tr>\n",
       "      <th>4</th>\n",
       "      <td>9</td>\n",
       "      <td>533229.23</td>\n",
       "      <td>-0.01</td>\n",
       "    </tr>\n",
       "    <tr>\n",
       "      <th>5</th>\n",
       "      <td>10</td>\n",
       "      <td>541560.38</td>\n",
       "      <td>0.02</td>\n",
       "    </tr>\n",
       "    <tr>\n",
       "      <th>6</th>\n",
       "      <td>11</td>\n",
       "      <td>523436.61</td>\n",
       "      <td>-0.03</td>\n",
       "    </tr>\n",
       "    <tr>\n",
       "      <th>7</th>\n",
       "      <td>12</td>\n",
       "      <td>525832.01</td>\n",
       "      <td>0.00</td>\n",
       "    </tr>\n",
       "  </tbody>\n",
       "</table>\n",
       "</div>"
      ],
      "text/plain": [
       "   month     price  crescimento\n",
       "0      5 549257.04          NaN\n",
       "1      6 559266.99         0.02\n",
       "2      7 546903.58        -0.02\n",
       "3      8 539608.15        -0.01\n",
       "4      9 533229.23        -0.01\n",
       "5     10 541560.38         0.02\n",
       "6     11 523436.61        -0.03\n",
       "7     12 525832.01         0.00"
      ]
     },
     "execution_count": 113,
     "metadata": {},
     "output_type": "execute_result"
    }
   ],
   "source": [
    "h5_14[['month', 'price']].groupby('month').mean().reset_index()\n",
    "\n",
    "h5_14['crescimento'] = h5_14['price'].pct_change()\n",
    "\n",
    "h5_14"
   ]
  },
  {
   "cell_type": "code",
   "execution_count": 46,
   "id": "79f749e8",
   "metadata": {},
   "outputs": [
    {
     "data": {
      "image/png": "[encoded data removed]",
      "text/plain": [
       "<Figure size 792x504 with 1 Axes>"
      ]
     },
     "metadata": {},
     "output_type": "display_data"
    }
   ],
   "source": [
    "h5_15 = data [(data['year'] == 2015)]\n",
    "\n",
    "h5_15 = h5_15[['month', 'price']].groupby ('month').mean().reset_index()\n",
    "\n",
    "sns.set_theme()\n",
    "sns.lineplot(data = h5_15, x = 'month',  y = 'price', \n",
    "             markers = True, style = (1), legend = False, \n",
    "             color = 'blue');"
   ]
  },
  {
   "cell_type": "code",
   "execution_count": 114,
   "id": "fbcdeca0",
   "metadata": {},
   "outputs": [
    {
     "data": {
      "text/html": [
       "<div>\n",
       "<style scoped>\n",
       "    .dataframe tbody tr th:only-of-type {\n",
       "        vertical-align: middle;\n",
       "    }\n",
       "\n",
       "    .dataframe tbody tr th {\n",
       "        vertical-align: top;\n",
       "    }\n",
       "\n",
       "    .dataframe thead th {\n",
       "        text-align: right;\n",
       "    }\n",
       "</style>\n",
       "<table border=\"1\" class=\"dataframe\">\n",
       "  <thead>\n",
       "    <tr style=\"text-align: right;\">\n",
       "      <th></th>\n",
       "      <th>month</th>\n",
       "      <th>price</th>\n",
       "      <th>crescimento</th>\n",
       "    </tr>\n",
       "  </thead>\n",
       "  <tbody>\n",
       "    <tr>\n",
       "      <th>0</th>\n",
       "      <td>1</td>\n",
       "      <td>527397.46</td>\n",
       "      <td>NaN</td>\n",
       "    </tr>\n",
       "    <tr>\n",
       "      <th>1</th>\n",
       "      <td>2</td>\n",
       "      <td>508276.17</td>\n",
       "      <td>0.02</td>\n",
       "    </tr>\n",
       "    <tr>\n",
       "      <th>2</th>\n",
       "      <td>3</td>\n",
       "      <td>543977.19</td>\n",
       "      <td>-0.02</td>\n",
       "    </tr>\n",
       "    <tr>\n",
       "      <th>3</th>\n",
       "      <td>4</td>\n",
       "      <td>561837.77</td>\n",
       "      <td>-0.01</td>\n",
       "    </tr>\n",
       "    <tr>\n",
       "      <th>4</th>\n",
       "      <td>5</td>\n",
       "      <td>558126.81</td>\n",
       "      <td>-0.01</td>\n",
       "    </tr>\n",
       "  </tbody>\n",
       "</table>\n",
       "</div>"
      ],
      "text/plain": [
       "   month     price  crescimento\n",
       "0      1 527397.46          NaN\n",
       "1      2 508276.17         0.02\n",
       "2      3 543977.19        -0.02\n",
       "3      4 561837.77        -0.01\n",
       "4      5 558126.81        -0.01"
      ]
     },
     "execution_count": 114,
     "metadata": {},
     "output_type": "execute_result"
    }
   ],
   "source": [
    "h5_15[['month', 'price']].groupby('month').mean().reset_index()\n",
    "\n",
    "h5_15['crescimento'] = h5_14['price'].pct_change()\n",
    "\n",
    "h5_15"
   ]
  },
  {
   "cell_type": "markdown",
   "id": "f0a9d757",
   "metadata": {},
   "source": [
    "### H6: Imóveis com 3 banheiros tem um crescimento MoM ( Month over Month ), no ano de 2015 de 15%.\n",
    "\n"
   ]
  },
  {
   "cell_type": "code",
   "execution_count": 47,
   "id": "52805d8d",
   "metadata": {},
   "outputs": [
    {
     "data": {
      "text/plain": [
       "array([1, 2, 3, 4, 0, 5, 6, 8, 7], dtype=int64)"
      ]
     },
     "execution_count": 47,
     "metadata": {},
     "output_type": "execute_result"
    }
   ],
   "source": [
    "data['bathrooms'].unique()"
   ]
  },
  {
   "cell_type": "code",
   "execution_count": 48,
   "id": "9b2fcc76",
   "metadata": {},
   "outputs": [
    {
     "data": {
      "image/png": "[encoded data removed]",
      "text/plain": [
       "<Figure size 792x504 with 1 Axes>"
      ]
     },
     "metadata": {},
     "output_type": "display_data"
    }
   ],
   "source": [
    "h6 = data [(data['year'] == 2015)]\n",
    "\n",
    "h6 = h6 [(h6['bathrooms'] == 3)]\n",
    "\n",
    "h6 = h6[['month', 'price']].groupby('month').mean().reset_index()\n",
    "\n",
    "sns.set_theme()\n",
    "sns.set_context('notebook')\n",
    "sns.lineplot(data = h6, x = 'month',  y = 'price', \n",
    "             markers = True, style = (1), legend = False, \n",
    "             color = 'blue');"
   ]
  },
  {
   "cell_type": "code",
   "execution_count": 115,
   "id": "9f1aacca",
   "metadata": {},
   "outputs": [
    {
     "data": {
      "text/html": [
       "<div>\n",
       "<style scoped>\n",
       "    .dataframe tbody tr th:only-of-type {\n",
       "        vertical-align: middle;\n",
       "    }\n",
       "\n",
       "    .dataframe tbody tr th {\n",
       "        vertical-align: top;\n",
       "    }\n",
       "\n",
       "    .dataframe thead th {\n",
       "        text-align: right;\n",
       "    }\n",
       "</style>\n",
       "<table border=\"1\" class=\"dataframe\">\n",
       "  <thead>\n",
       "    <tr style=\"text-align: right;\">\n",
       "      <th></th>\n",
       "      <th>month</th>\n",
       "      <th>price</th>\n",
       "      <th>crescimento</th>\n",
       "    </tr>\n",
       "  </thead>\n",
       "  <tbody>\n",
       "    <tr>\n",
       "      <th>0</th>\n",
       "      <td>1</td>\n",
       "      <td>872100.00</td>\n",
       "      <td>NaN</td>\n",
       "    </tr>\n",
       "    <tr>\n",
       "      <th>1</th>\n",
       "      <td>2</td>\n",
       "      <td>839514.86</td>\n",
       "      <td>0.02</td>\n",
       "    </tr>\n",
       "    <tr>\n",
       "      <th>2</th>\n",
       "      <td>3</td>\n",
       "      <td>951685.22</td>\n",
       "      <td>-0.02</td>\n",
       "    </tr>\n",
       "    <tr>\n",
       "      <th>3</th>\n",
       "      <td>4</td>\n",
       "      <td>920543.98</td>\n",
       "      <td>-0.01</td>\n",
       "    </tr>\n",
       "    <tr>\n",
       "      <th>4</th>\n",
       "      <td>5</td>\n",
       "      <td>953925.47</td>\n",
       "      <td>-0.01</td>\n",
       "    </tr>\n",
       "  </tbody>\n",
       "</table>\n",
       "</div>"
      ],
      "text/plain": [
       "   month     price  crescimento\n",
       "0      1 872100.00          NaN\n",
       "1      2 839514.86         0.02\n",
       "2      3 951685.22        -0.02\n",
       "3      4 920543.98        -0.01\n",
       "4      5 953925.47        -0.01"
      ]
     },
     "execution_count": 115,
     "metadata": {},
     "output_type": "execute_result"
    }
   ],
   "source": [
    "h6['crescimento'] = h5_14['price'].pct_change()\n",
    "\n",
    "h6"
   ]
  },
  {
   "cell_type": "code",
   "execution_count": null,
   "id": "0b9bbb59",
   "metadata": {},
   "outputs": [],
   "source": []
  },
  {
   "cell_type": "markdown",
   "id": "cf352213",
   "metadata": {},
   "source": [
    "### H7: Imóveis reformados são, em média 40% mais caros que os imóveis não reformados."
   ]
  },
  {
   "cell_type": "code",
   "execution_count": 49,
   "id": "77192486",
   "metadata": {},
   "outputs": [
    {
     "data": {
      "text/plain": [
       "array([   0, 1991, 2002, 2010, 1999, 1992, 2013, 1994, 1978, 2005, 2008,\n",
       "       2003, 1984, 1954, 2014, 2011, 1974, 1983, 1945, 1990, 1988, 1957,\n",
       "       1977, 1981, 1995, 2000, 1998, 1970, 1989, 2004, 1986, 2009, 2007,\n",
       "       1987, 1973, 2006, 1985, 2001, 1980, 1971, 1979, 1997, 1950, 1969,\n",
       "       1948, 2015, 1968, 2012, 1963, 1951, 1993, 1962, 1996, 1972, 1953,\n",
       "       1955, 1982, 1956, 1940, 1976, 1946, 1975, 1958, 1964, 1959, 1960,\n",
       "       1967, 1965, 1934, 1944], dtype=int64)"
      ]
     },
     "execution_count": 49,
     "metadata": {},
     "output_type": "execute_result"
    }
   ],
   "source": [
    "data['yr_renovated'].unique()"
   ]
  },
  {
   "cell_type": "code",
   "execution_count": 50,
   "id": "64bb2773",
   "metadata": {},
   "outputs": [
    {
     "data": {
      "image/png": "[encoded data removed]",
      "text/plain": [
       "<Figure size 792x504 with 1 Axes>"
      ]
     },
     "metadata": {},
     "output_type": "display_data"
    },
    {
     "name": "stdout",
     "output_type": "stream",
     "text": [
      "Imóveis reformados são, em média 43.29% mais caros que os não reformados.\n"
     ]
    }
   ],
   "source": [
    "h7 = data[['renovated', 'price']].groupby ('renovated').mean().reset_index()\n",
    "\n",
    "sns.barplot(x='renovated', y='price', data=h7, palette=['b','r'])\n",
    "plt.show()\n",
    "\n",
    "h7['percent'] = h7['price'].pct_change()\n",
    "print (f'Imóveis reformados são, em média {h7.iloc[1,2]:.2%} mais caros que os não reformados.')\n"
   ]
  },
  {
   "cell_type": "markdown",
   "id": "37fa3bb4",
   "metadata": {},
   "source": [
    "### H8: Imóveis anteriores a 1955 e não renovados são 5% mais baratos.\n"
   ]
  },
  {
   "cell_type": "code",
   "execution_count": 51,
   "id": "2c8631cc",
   "metadata": {},
   "outputs": [
    {
     "data": {
      "image/png": "[encoded data removed]",
      "text/plain": [
       "<Figure size 792x504 with 1 Axes>"
      ]
     },
     "metadata": {},
     "output_type": "display_data"
    },
    {
     "name": "stdout",
     "output_type": "stream",
     "text": [
      "Imóveis com data de construção anterior à 1955 e não reformados são, em média 5.19% mais baratos.\n"
     ]
    }
   ],
   "source": [
    "h8 = data[data['renovated'] == 'não']\n",
    "\n",
    "h8 = h8[['built', 'price']].groupby ('built').mean().reset_index()\n",
    "\n",
    "sns.barplot(x='built', y='price', data=h8, palette=['b', 'r'])\n",
    "plt.show()\n",
    "\n",
    "h8['percent'] = h8['price'].pct_change()\n",
    "print (f'Imóveis com data de construção anterior à 1955 e não reformados são, em média {h8.iloc[1,2]:.2%} mais baratos.')"
   ]
  },
  {
   "cell_type": "markdown",
   "id": "a89c698b",
   "metadata": {},
   "source": [
    "### H9: Imóveis em más condições (condition_type = bad) mas com boa vista, são 25% mais caros."
   ]
  },
  {
   "cell_type": "code",
   "execution_count": 117,
   "id": "4a3a1250",
   "metadata": {},
   "outputs": [
    {
     "data": {
      "text/plain": [
       "array([0, 3, 4, 2, 1], dtype=int64)"
      ]
     },
     "execution_count": 117,
     "metadata": {},
     "output_type": "execute_result"
    }
   ],
   "source": [
    "data['view'].unique()"
   ]
  },
  {
   "cell_type": "code",
   "execution_count": 124,
   "id": "78639d0f",
   "metadata": {},
   "outputs": [
    {
     "data": {
      "image/png": "[encoded data removed]",
      "text/plain": [
       "<Figure size 792x504 with 1 Axes>"
      ]
     },
     "metadata": {},
     "output_type": "display_data"
    },
    {
     "name": "stdout",
     "output_type": "stream",
     "text": [
      "Imóveis em más condições e com boa vista são, em média 26.14% mais caros que imóveis com más condições e com vista ruim.\n"
     ]
    }
   ],
   "source": [
    "h9 =  data[data ['condition_type'] == 'bad']\n",
    "\n",
    "h9 = h9[['condition_view', 'price']].groupby ('condition_view').mean().reset_index()\n",
    "\n",
    "sns.barplot (x = 'condition_view', y = 'price', data = h9)\n",
    "plt.show ()\n",
    "\n",
    "h9['percent'] = h9['price'].pct_change()\n",
    "\n",
    "print (f'Imóveis em más condições e com boa vista são, em média {h9.iloc[1,2]:.2%} mais caros que imóveis com más condições e com vista ruim.')"
   ]
  },
  {
   "cell_type": "markdown",
   "id": "c0e3947b",
   "metadata": {},
   "source": [
    "### H10: Imóveis com número de quartos maior são 5% mais caros."
   ]
  },
  {
   "cell_type": "code",
   "execution_count": 54,
   "id": "f2141279",
   "metadata": {},
   "outputs": [],
   "source": [
    "data ['beds'] = data ['bedrooms'].apply (lambda x:'0-3' if (x >= 0 ) & (x <= 3) else\n",
    "                                                   '4-7' if (x >= 4) & (x <= 7) else\n",
    "                                                   '8-11')"
   ]
  },
  {
   "cell_type": "code",
   "execution_count": 126,
   "id": "10f0ba1b",
   "metadata": {},
   "outputs": [
    {
     "data": {
      "image/png": "[encoded data removed]",
      "text/plain": [
       "<Figure size 792x504 with 1 Axes>"
      ]
     },
     "metadata": {},
     "output_type": "display_data"
    },
    {
     "name": "stdout",
     "output_type": "stream",
     "text": [
      "Imóveis com 4-7 quartos são, em média 48.79% mais caros que imóveis com 0-3 quartos, uma vez que os imóveis com 8-11 quartos são 98730430.43% mais caros que os de 4-7 quartos.\n"
     ]
    }
   ],
   "source": [
    "h10 = data[['beds','price']].groupby ('beds').mean().reset_index()\n",
    "\n",
    "sns.barplot (x = 'beds', y = 'price', data = h10)\n",
    "plt.show ()\n",
    "\n",
    "h10['percent'] = h10['price'].pct_change()\n",
    "\n",
    "print (f'Imóveis com 4-7 quartos são, em média {h10.iloc[1,2]:.2%} mais caros que imóveis com 0-3 quartos, uma vez que os imóveis com 8-11 quartos são {h10.iloc[2,1]:.2%} mais caros que os de 4-7 quartos.')"
   ]
  },
  {
   "cell_type": "code",
   "execution_count": 56,
   "id": "25848c2b",
   "metadata": {},
   "outputs": [
    {
     "data": {
      "text/html": [
       "<div>\n",
       "<style scoped>\n",
       "    .dataframe tbody tr th:only-of-type {\n",
       "        vertical-align: middle;\n",
       "    }\n",
       "\n",
       "    .dataframe tbody tr th {\n",
       "        vertical-align: top;\n",
       "    }\n",
       "\n",
       "    .dataframe thead th {\n",
       "        text-align: right;\n",
       "    }\n",
       "</style>\n",
       "<table border=\"1\" class=\"dataframe\">\n",
       "  <thead>\n",
       "    <tr style=\"text-align: right;\">\n",
       "      <th></th>\n",
       "      <th>beds</th>\n",
       "      <th>price</th>\n",
       "      <th>percent</th>\n",
       "    </tr>\n",
       "  </thead>\n",
       "  <tbody>\n",
       "    <tr>\n",
       "      <th>0</th>\n",
       "      <td>0-3</td>\n",
       "      <td>451303.31</td>\n",
       "      <td>NaN</td>\n",
       "    </tr>\n",
       "    <tr>\n",
       "      <th>1</th>\n",
       "      <td>4-7</td>\n",
       "      <td>671508.64</td>\n",
       "      <td>0.49</td>\n",
       "    </tr>\n",
       "    <tr>\n",
       "      <th>2</th>\n",
       "      <td>8-11</td>\n",
       "      <td>987304.30</td>\n",
       "      <td>0.47</td>\n",
       "    </tr>\n",
       "  </tbody>\n",
       "</table>\n",
       "</div>"
      ],
      "text/plain": [
       "   beds     price  percent\n",
       "0   0-3 451303.31      NaN\n",
       "1   4-7 671508.64     0.49\n",
       "2  8-11 987304.30     0.47"
      ]
     },
     "execution_count": 56,
     "metadata": {},
     "output_type": "execute_result"
    }
   ],
   "source": [
    "h10 "
   ]
  },
  {
   "cell_type": "markdown",
   "id": "b9c2496d",
   "metadata": {},
   "source": [
    "# 2. Construir uma tabela com recomendações de compra ou não compra"
   ]
  },
  {
   "cell_type": "markdown",
   "id": "9cd3aa27",
   "metadata": {},
   "source": [
    "### 1. Quais são os imóveis que a House Rocket deveria comprar e por qual preço?\n",
    "\n",
    "    * Agrupar por zipcode (area);\n",
    "    * Definir a mediana do preço do imóvel, dentro de cada região (A mediana é o valor central de um conjunto de números colocados por ordem de grandeza. Trata-se do número que se encontra exatamente no centro, de modo que 50% dos números são superiores e 50% são inferiores a essa mediana.);\n",
    "    * Indicar os imóveis com valor abaixo da mediana, em boas condições, como sugestão de compra."
   ]
  },
  {
   "cell_type": "code",
   "execution_count": 70,
   "id": "cf363de9",
   "metadata": {},
   "outputs": [],
   "source": [
    "zipcode = data[['zipcode','price']].groupby ('zipcode').median().reset_index()\n",
    "\n",
    "df = pd.merge (zipcode, data, on='zipcode', how='inner')\n",
    "\n",
    "df = df.rename(columns = {'price_y': 'price', 'price_x': 'price_median'})\n",
    "\n",
    "for i, row in df.iterrows():\n",
    "    if (row['price_median'] >= row['price']) & ((row['condition_type'] == 'good') | (row['condition_type'] == 'regular')):\n",
    "        df.loc[i,'buy'] =  'compra'\n",
    "    else:\n",
    "        df.loc[i, 'buy'] = 'nao compra'\n",
    "        "
   ]
  },
  {
   "cell_type": "code",
   "execution_count": 71,
   "id": "7ce4264b",
   "metadata": {},
   "outputs": [
    {
     "data": {
      "text/html": [
       "<div>\n",
       "<style scoped>\n",
       "    .dataframe tbody tr th:only-of-type {\n",
       "        vertical-align: middle;\n",
       "    }\n",
       "\n",
       "    .dataframe tbody tr th {\n",
       "        vertical-align: top;\n",
       "    }\n",
       "\n",
       "    .dataframe thead th {\n",
       "        text-align: right;\n",
       "    }\n",
       "</style>\n",
       "<table border=\"1\" class=\"dataframe\">\n",
       "  <thead>\n",
       "    <tr style=\"text-align: right;\">\n",
       "      <th></th>\n",
       "      <th>id</th>\n",
       "      <th>price</th>\n",
       "      <th>buy</th>\n",
       "    </tr>\n",
       "  </thead>\n",
       "  <tbody>\n",
       "    <tr>\n",
       "      <th>5</th>\n",
       "      <td>3353400435</td>\n",
       "      <td>230000.00</td>\n",
       "      <td>compra</td>\n",
       "    </tr>\n",
       "    <tr>\n",
       "      <th>6</th>\n",
       "      <td>9262800171</td>\n",
       "      <td>252000.00</td>\n",
       "      <td>compra</td>\n",
       "    </tr>\n",
       "    <tr>\n",
       "      <th>7</th>\n",
       "      <td>3353401710</td>\n",
       "      <td>227950.00</td>\n",
       "      <td>compra</td>\n",
       "    </tr>\n",
       "    <tr>\n",
       "      <th>8</th>\n",
       "      <td>8159610030</td>\n",
       "      <td>196000.00</td>\n",
       "      <td>compra</td>\n",
       "    </tr>\n",
       "    <tr>\n",
       "      <th>10</th>\n",
       "      <td>7967200060</td>\n",
       "      <td>243000.00</td>\n",
       "      <td>compra</td>\n",
       "    </tr>\n",
       "    <tr>\n",
       "      <th>...</th>\n",
       "      <td>...</td>\n",
       "      <td>...</td>\n",
       "      <td>...</td>\n",
       "    </tr>\n",
       "    <tr>\n",
       "      <th>21428</th>\n",
       "      <td>2771604196</td>\n",
       "      <td>465000.00</td>\n",
       "      <td>compra</td>\n",
       "    </tr>\n",
       "    <tr>\n",
       "      <th>21429</th>\n",
       "      <td>2770601457</td>\n",
       "      <td>542300.00</td>\n",
       "      <td>compra</td>\n",
       "    </tr>\n",
       "    <tr>\n",
       "      <th>21430</th>\n",
       "      <td>2770601912</td>\n",
       "      <td>570000.00</td>\n",
       "      <td>compra</td>\n",
       "    </tr>\n",
       "    <tr>\n",
       "      <th>21433</th>\n",
       "      <td>2770601782</td>\n",
       "      <td>453000.00</td>\n",
       "      <td>compra</td>\n",
       "    </tr>\n",
       "    <tr>\n",
       "      <th>21434</th>\n",
       "      <td>6821101731</td>\n",
       "      <td>549000.00</td>\n",
       "      <td>compra</td>\n",
       "    </tr>\n",
       "  </tbody>\n",
       "</table>\n",
       "<p>10642 rows × 3 columns</p>\n",
       "</div>"
      ],
      "text/plain": [
       "               id     price     buy\n",
       "5      3353400435 230000.00  compra\n",
       "6      9262800171 252000.00  compra\n",
       "7      3353401710 227950.00  compra\n",
       "8      8159610030 196000.00  compra\n",
       "10     7967200060 243000.00  compra\n",
       "...           ...       ...     ...\n",
       "21428  2771604196 465000.00  compra\n",
       "21429  2770601457 542300.00  compra\n",
       "21430  2770601912 570000.00  compra\n",
       "21433  2770601782 453000.00  compra\n",
       "21434  6821101731 549000.00  compra\n",
       "\n",
       "[10642 rows x 3 columns]"
      ]
     },
     "execution_count": 71,
     "metadata": {},
     "output_type": "execute_result"
    }
   ],
   "source": [
    "compra = df[df['buy'] == 'compra']\n",
    "\n",
    "compra['buy'].shape[0]\n",
    "insight1 = compra[['id', 'price', 'buy']]\n",
    "insight1\n"
   ]
  },
  {
   "cell_type": "code",
   "execution_count": 72,
   "id": "daaa98cd",
   "metadata": {},
   "outputs": [],
   "source": [
    "insight1.to_csv('compra.csv')"
   ]
  },
  {
   "cell_type": "markdown",
   "id": "10ff4f7d",
   "metadata": {},
   "source": [
    "### 2. Uma vez a casa comprada, qual o melhor momento para vendê-las e por qual preço?\n",
    "\n",
    "    * Agrupar por zipcode (area) e por sazonalidade (estações do ano); ##hipotese de diferenciação na venda\n",
    "    * Definir a mediana do preço por area e sazonalidade;\n",
    "    * Indicar os imoveis com sugestão de venda, de acordo com as seguintes condições:\n",
    "            * Se o preço de compra, for maior que a mediana da região por sazonalidade, o preço de venda deve ser igual ao preço de compra acrescido 10%\n",
    "        * Se o preço de compra, for menor que a mediana da regiaão por sazonalidade, o preço de venda deve ser o preço de compra acrescido 30%"
   ]
  },
  {
   "cell_type": "code",
   "execution_count": 86,
   "id": "353dcc32",
   "metadata": {},
   "outputs": [],
   "source": [
    "df2 = data[['price', 'season', 'zipcode']].groupby (['zipcode', 'season']).median().reset_index()\n",
    "\n",
    "df2 = df2.rename(columns = {'price': 'price_median_season'})\n",
    "\n",
    "df3 = pd.merge (df2, df, on='zipcode', how='inner')\n",
    "\n",
    "df3 = df3.rename(columns = {'season_x': 'season'})\n",
    "\n",
    "for i, row in df3.iterrows():\n",
    "    if (row['price'] >= row['price_median_season']):\n",
    "        df3.loc[i,'sale'] = row['price']*1.10\n",
    "    else:\n",
    "        df3.loc[i, 'sale'] = row['price']*1.30"
   ]
  },
  {
   "cell_type": "code",
   "execution_count": 87,
   "id": "de1a1213",
   "metadata": {},
   "outputs": [],
   "source": [
    "df3 ['profit'] = df3['sale'] - df3['price']"
   ]
  },
  {
   "cell_type": "code",
   "execution_count": 128,
   "id": "3b675da9",
   "metadata": {},
   "outputs": [
    {
     "data": {
      "image/png": "[encoded data removed]",
      "text/plain": [
       "<Figure size 792x504 with 2 Axes>"
      ]
     },
     "metadata": {},
     "output_type": "display_data"
    }
   ],
   "source": [
    "matrix = np.triu(df3.corr())\n",
    "\n",
    "sns.heatmap(df3.corr(), cmap = 'GnBu', square = True, annot=True, annot_kws={\"size\":6}, cbar_kws={\"shrink\":1}, center = 0,\n",
    "             mask = matrix);\n"
   ]
  },
  {
   "cell_type": "code",
   "execution_count": 104,
   "id": "ac4e58a4",
   "metadata": {},
   "outputs": [
    {
     "data": {
      "text/html": [
       "<div>\n",
       "<style scoped>\n",
       "    .dataframe tbody tr th:only-of-type {\n",
       "        vertical-align: middle;\n",
       "    }\n",
       "\n",
       "    .dataframe tbody tr th {\n",
       "        vertical-align: top;\n",
       "    }\n",
       "\n",
       "    .dataframe thead th {\n",
       "        text-align: right;\n",
       "    }\n",
       "</style>\n",
       "<table border=\"1\" class=\"dataframe\">\n",
       "  <thead>\n",
       "    <tr style=\"text-align: right;\">\n",
       "      <th></th>\n",
       "      <th>id</th>\n",
       "      <th>season</th>\n",
       "      <th>sale</th>\n",
       "    </tr>\n",
       "  </thead>\n",
       "  <tbody>\n",
       "    <tr>\n",
       "      <th>78931</th>\n",
       "      <td>9900000190</td>\n",
       "      <td>autumn</td>\n",
       "      <td>349635.00</td>\n",
       "    </tr>\n",
       "    <tr>\n",
       "      <th>14928</th>\n",
       "      <td>9895000040</td>\n",
       "      <td>autumn</td>\n",
       "      <td>519870.00</td>\n",
       "    </tr>\n",
       "    <tr>\n",
       "      <th>69975</th>\n",
       "      <td>9842300540</td>\n",
       "      <td>autumn</td>\n",
       "      <td>440700.00</td>\n",
       "    </tr>\n",
       "    <tr>\n",
       "      <th>70259</th>\n",
       "      <td>9842300485</td>\n",
       "      <td>spring</td>\n",
       "      <td>494000.00</td>\n",
       "    </tr>\n",
       "    <tr>\n",
       "      <th>70126</th>\n",
       "      <td>9842300095</td>\n",
       "      <td>autumn</td>\n",
       "      <td>474500.00</td>\n",
       "    </tr>\n",
       "    <tr>\n",
       "      <th>...</th>\n",
       "      <td>...</td>\n",
       "      <td>...</td>\n",
       "      <td>...</td>\n",
       "    </tr>\n",
       "    <tr>\n",
       "      <th>64572</th>\n",
       "      <td>7400062</td>\n",
       "      <td>autumn</td>\n",
       "      <td>389740.00</td>\n",
       "    </tr>\n",
       "    <tr>\n",
       "      <th>35932</th>\n",
       "      <td>7200179</td>\n",
       "      <td>autumn</td>\n",
       "      <td>227500.00</td>\n",
       "    </tr>\n",
       "    <tr>\n",
       "      <th>81850</th>\n",
       "      <td>3800008</td>\n",
       "      <td>autumn</td>\n",
       "      <td>231400.00</td>\n",
       "    </tr>\n",
       "    <tr>\n",
       "      <th>74308</th>\n",
       "      <td>3600057</td>\n",
       "      <td>autumn</td>\n",
       "      <td>523250.00</td>\n",
       "    </tr>\n",
       "    <tr>\n",
       "      <th>80111</th>\n",
       "      <td>2800031</td>\n",
       "      <td>spring</td>\n",
       "      <td>305500.00</td>\n",
       "    </tr>\n",
       "  </tbody>\n",
       "</table>\n",
       "<p>10642 rows × 3 columns</p>\n",
       "</div>"
      ],
      "text/plain": [
       "               id  season      sale\n",
       "78931  9900000190  autumn 349635.00\n",
       "14928  9895000040  autumn 519870.00\n",
       "69975  9842300540  autumn 440700.00\n",
       "70259  9842300485  spring 494000.00\n",
       "70126  9842300095  autumn 474500.00\n",
       "...           ...     ...       ...\n",
       "64572     7400062  autumn 389740.00\n",
       "35932     7200179  autumn 227500.00\n",
       "81850     3800008  autumn 231400.00\n",
       "74308     3600057  autumn 523250.00\n",
       "80111     2800031  spring 305500.00\n",
       "\n",
       "[10642 rows x 3 columns]"
      ]
     },
     "execution_count": 104,
     "metadata": {},
     "output_type": "execute_result"
    }
   ],
   "source": [
    "df4 = df3 [df3['buy'] == 'compra']\n",
    "\n",
    "df4 = df4[['id','price','zipcode','price_median', 'season', 'price_median_season', 'condition_type','buy', 'sale','profit']].sort_values(['id', 'profit'], ascending =False)\n",
    "\n",
    "df4 = df4.drop_duplicates(subset = ['id'], keep = 'first')\n",
    "\n",
    "## Definição do melhor momento e valor para venda\n",
    "season_value = df4 [['id', 'season', 'sale']]\n",
    "season_value"
   ]
  },
  {
   "cell_type": "markdown",
   "id": "8ebc18ff",
   "metadata": {},
   "source": [
    "\n",
    "# 3. Construir uma tabela com recomendações de venda com acrescimo de 10 ou 30%"
   ]
  },
  {
   "cell_type": "code",
   "execution_count": 107,
   "id": "a993dd72",
   "metadata": {},
   "outputs": [
    {
     "data": {
      "text/html": [
       "<div>\n",
       "<style scoped>\n",
       "    .dataframe tbody tr th:only-of-type {\n",
       "        vertical-align: middle;\n",
       "    }\n",
       "\n",
       "    .dataframe tbody tr th {\n",
       "        vertical-align: top;\n",
       "    }\n",
       "\n",
       "    .dataframe thead th {\n",
       "        text-align: right;\n",
       "    }\n",
       "</style>\n",
       "<table border=\"1\" class=\"dataframe\">\n",
       "  <thead>\n",
       "    <tr style=\"text-align: right;\">\n",
       "      <th></th>\n",
       "      <th>id</th>\n",
       "      <th>price</th>\n",
       "      <th>zipcode</th>\n",
       "      <th>price_median</th>\n",
       "      <th>season</th>\n",
       "      <th>price_median_season</th>\n",
       "      <th>condition_type</th>\n",
       "      <th>buy</th>\n",
       "      <th>sale</th>\n",
       "      <th>profit</th>\n",
       "    </tr>\n",
       "  </thead>\n",
       "  <tbody>\n",
       "    <tr>\n",
       "      <th>78931</th>\n",
       "      <td>9900000190</td>\n",
       "      <td>268950.00</td>\n",
       "      <td>98166</td>\n",
       "      <td>392500.00</td>\n",
       "      <td>autumn</td>\n",
       "      <td>344497.50</td>\n",
       "      <td>regular</td>\n",
       "      <td>compra</td>\n",
       "      <td>349635.00</td>\n",
       "      <td>80685.00</td>\n",
       "    </tr>\n",
       "    <tr>\n",
       "      <th>14928</th>\n",
       "      <td>9895000040</td>\n",
       "      <td>399900.00</td>\n",
       "      <td>98027</td>\n",
       "      <td>571000.00</td>\n",
       "      <td>autumn</td>\n",
       "      <td>580250.00</td>\n",
       "      <td>regular</td>\n",
       "      <td>compra</td>\n",
       "      <td>519870.00</td>\n",
       "      <td>119970.00</td>\n",
       "    </tr>\n",
       "    <tr>\n",
       "      <th>69975</th>\n",
       "      <td>9842300540</td>\n",
       "      <td>339000.00</td>\n",
       "      <td>98126</td>\n",
       "      <td>396587.50</td>\n",
       "      <td>autumn</td>\n",
       "      <td>370000.00</td>\n",
       "      <td>regular</td>\n",
       "      <td>compra</td>\n",
       "      <td>440700.00</td>\n",
       "      <td>101700.00</td>\n",
       "    </tr>\n",
       "    <tr>\n",
       "      <th>70259</th>\n",
       "      <td>9842300485</td>\n",
       "      <td>380000.00</td>\n",
       "      <td>98126</td>\n",
       "      <td>396587.50</td>\n",
       "      <td>spring</td>\n",
       "      <td>405400.00</td>\n",
       "      <td>good</td>\n",
       "      <td>compra</td>\n",
       "      <td>494000.00</td>\n",
       "      <td>114000.00</td>\n",
       "    </tr>\n",
       "    <tr>\n",
       "      <th>70126</th>\n",
       "      <td>9842300095</td>\n",
       "      <td>365000.00</td>\n",
       "      <td>98126</td>\n",
       "      <td>396587.50</td>\n",
       "      <td>autumn</td>\n",
       "      <td>370000.00</td>\n",
       "      <td>regular</td>\n",
       "      <td>compra</td>\n",
       "      <td>474500.00</td>\n",
       "      <td>109500.00</td>\n",
       "    </tr>\n",
       "    <tr>\n",
       "      <th>...</th>\n",
       "      <td>...</td>\n",
       "      <td>...</td>\n",
       "      <td>...</td>\n",
       "      <td>...</td>\n",
       "      <td>...</td>\n",
       "      <td>...</td>\n",
       "      <td>...</td>\n",
       "      <td>...</td>\n",
       "      <td>...</td>\n",
       "      <td>...</td>\n",
       "    </tr>\n",
       "    <tr>\n",
       "      <th>64572</th>\n",
       "      <td>7400062</td>\n",
       "      <td>299800.00</td>\n",
       "      <td>98118</td>\n",
       "      <td>370000.00</td>\n",
       "      <td>autumn</td>\n",
       "      <td>350000.00</td>\n",
       "      <td>regular</td>\n",
       "      <td>compra</td>\n",
       "      <td>389740.00</td>\n",
       "      <td>89940.00</td>\n",
       "    </tr>\n",
       "    <tr>\n",
       "      <th>35932</th>\n",
       "      <td>7200179</td>\n",
       "      <td>175000.00</td>\n",
       "      <td>98055</td>\n",
       "      <td>297225.00</td>\n",
       "      <td>autumn</td>\n",
       "      <td>271000.00</td>\n",
       "      <td>regular</td>\n",
       "      <td>compra</td>\n",
       "      <td>227500.00</td>\n",
       "      <td>52500.00</td>\n",
       "    </tr>\n",
       "    <tr>\n",
       "      <th>81850</th>\n",
       "      <td>3800008</td>\n",
       "      <td>178000.00</td>\n",
       "      <td>98178</td>\n",
       "      <td>279500.00</td>\n",
       "      <td>autumn</td>\n",
       "      <td>294000.00</td>\n",
       "      <td>regular</td>\n",
       "      <td>compra</td>\n",
       "      <td>231400.00</td>\n",
       "      <td>53400.00</td>\n",
       "    </tr>\n",
       "    <tr>\n",
       "      <th>74308</th>\n",
       "      <td>3600057</td>\n",
       "      <td>402500.00</td>\n",
       "      <td>98144</td>\n",
       "      <td>452500.00</td>\n",
       "      <td>autumn</td>\n",
       "      <td>449000.00</td>\n",
       "      <td>regular</td>\n",
       "      <td>compra</td>\n",
       "      <td>523250.00</td>\n",
       "      <td>120750.00</td>\n",
       "    </tr>\n",
       "    <tr>\n",
       "      <th>80111</th>\n",
       "      <td>2800031</td>\n",
       "      <td>235000.00</td>\n",
       "      <td>98168</td>\n",
       "      <td>237000.00</td>\n",
       "      <td>spring</td>\n",
       "      <td>245000.00</td>\n",
       "      <td>regular</td>\n",
       "      <td>compra</td>\n",
       "      <td>305500.00</td>\n",
       "      <td>70500.00</td>\n",
       "    </tr>\n",
       "  </tbody>\n",
       "</table>\n",
       "<p>10642 rows × 10 columns</p>\n",
       "</div>"
      ],
      "text/plain": [
       "               id     price  zipcode  price_median  season  \\\n",
       "78931  9900000190 268950.00    98166     392500.00  autumn   \n",
       "14928  9895000040 399900.00    98027     571000.00  autumn   \n",
       "69975  9842300540 339000.00    98126     396587.50  autumn   \n",
       "70259  9842300485 380000.00    98126     396587.50  spring   \n",
       "70126  9842300095 365000.00    98126     396587.50  autumn   \n",
       "...           ...       ...      ...           ...     ...   \n",
       "64572     7400062 299800.00    98118     370000.00  autumn   \n",
       "35932     7200179 175000.00    98055     297225.00  autumn   \n",
       "81850     3800008 178000.00    98178     279500.00  autumn   \n",
       "74308     3600057 402500.00    98144     452500.00  autumn   \n",
       "80111     2800031 235000.00    98168     237000.00  spring   \n",
       "\n",
       "       price_median_season condition_type     buy      sale    profit  \n",
       "78931            344497.50        regular  compra 349635.00  80685.00  \n",
       "14928            580250.00        regular  compra 519870.00 119970.00  \n",
       "69975            370000.00        regular  compra 440700.00 101700.00  \n",
       "70259            405400.00           good  compra 494000.00 114000.00  \n",
       "70126            370000.00        regular  compra 474500.00 109500.00  \n",
       "...                    ...            ...     ...       ...       ...  \n",
       "64572            350000.00        regular  compra 389740.00  89940.00  \n",
       "35932            271000.00        regular  compra 227500.00  52500.00  \n",
       "81850            294000.00        regular  compra 231400.00  53400.00  \n",
       "74308            449000.00        regular  compra 523250.00 120750.00  \n",
       "80111            245000.00        regular  compra 305500.00  70500.00  \n",
       "\n",
       "[10642 rows x 10 columns]"
      ]
     },
     "execution_count": 107,
     "metadata": {},
     "output_type": "execute_result"
    }
   ],
   "source": [
    "# Recomendação de compra com as respectivos preços de venda\n",
    "final = df4\n",
    "final"
   ]
  },
  {
   "cell_type": "code",
   "execution_count": 108,
   "id": "4ce1ee3b",
   "metadata": {},
   "outputs": [
    {
     "data": {
      "text/plain": [
       "1242155166.9"
      ]
     },
     "execution_count": 108,
     "metadata": {},
     "output_type": "execute_result"
    }
   ],
   "source": [
    "#Determinação do lucro\n",
    "\n",
    "lucro = final['profit'].sum()\n",
    "lucro"
   ]
  },
  {
   "cell_type": "code",
   "execution_count": 109,
   "id": "1f32506b",
   "metadata": {},
   "outputs": [
    {
     "data": {
      "text/plain": [
       "4142197223.0"
      ]
     },
     "execution_count": 109,
     "metadata": {},
     "output_type": "execute_result"
    }
   ],
   "source": [
    "#Determinação do custo total de compra\n",
    "\n",
    "custo = final['price'].sum()\n",
    "custo"
   ]
  },
  {
   "cell_type": "code",
   "execution_count": 110,
   "id": "bd8d3a5c",
   "metadata": {},
   "outputs": [
    {
     "data": {
      "text/plain": [
       "5384352389.9"
      ]
     },
     "execution_count": 110,
     "metadata": {},
     "output_type": "execute_result"
    }
   ],
   "source": [
    "#Receita total\n",
    "\n",
    "receita = final['sale'].sum()\n",
    "receita"
   ]
  },
  {
   "cell_type": "code",
   "execution_count": null,
   "id": "a2295ef7",
   "metadata": {},
   "outputs": [],
   "source": []
  }
 ],
 "metadata": {
  "kernelspec": {
   "display_name": "Python 3 (ipykernel)",
   "language": "python",
   "name": "python3"
  },
  "language_info": {
   "codemirror_mode": {
    "name": "ipython",
    "version": 3
   },
   "file_extension": ".py",
   "mimetype": "text/x-python",
   "name": "python",
   "nbconvert_exporter": "python",
   "pygments_lexer": "ipython3",
   "version": "3.9.12"
  }
 },
 "nbformat": 4,
 "nbformat_minor": 5
}
